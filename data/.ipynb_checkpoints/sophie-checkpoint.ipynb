{
 "cells": [
  {
   "cell_type": "code",
   "execution_count": 9,
   "metadata": {
    "colab": {},
    "colab_type": "code",
    "id": "Kqu-6L2W3yqa"
   },
   "outputs": [],
   "source": [
    "import pandas as pd\n"
   ]
  },
  {
   "cell_type": "code",
   "execution_count": 13,
   "metadata": {
    "colab": {
     "base_uri": "https://localhost:8080/",
     "height": 35
    },
    "colab_type": "code",
    "executionInfo": {
     "elapsed": 178,
     "status": "ok",
     "timestamp": 1569685694175,
     "user": {
      "displayName": "sophia fekade",
      "photoUrl": "https://lh3.googleusercontent.com/a-/AAuE7mD9xzBIUHLdL1rDh5xzXCwsqbZvmGFo5tMaikY2Nw=s64",
      "userId": "15785356894255119088"
     },
     "user_tz": 300
    },
    "id": "Mo0qtHKX33rn",
    "outputId": "d1f8b764-1730-4193-cf30-86f6fe0391c7"
   },
   "outputs": [
    {
     "name": "stdout",
     "output_type": "stream",
     "text": [
      "Drive already mounted at /content/drive; to attempt to forcibly remount, call drive.mount(\"/content/drive\", force_remount=True).\n"
     ]
    }
   ],
   "source": [
    "# from google.colab import drive\n",
    "# drive.mount('/content/drive')"
   ]
  },
  {
   "cell_type": "code",
   "execution_count": 17,
   "metadata": {
    "colab": {
     "base_uri": "https://localhost:8080/",
     "height": 52
    },
    "colab_type": "code",
    "executionInfo": {
     "elapsed": 185,
     "status": "ok",
     "timestamp": 1569685770665,
     "user": {
      "displayName": "sophia fekade",
      "photoUrl": "https://lh3.googleusercontent.com/a-/AAuE7mD9xzBIUHLdL1rDh5xzXCwsqbZvmGFo5tMaikY2Nw=s64",
      "userId": "15785356894255119088"
     },
     "user_tz": 300
    },
    "id": "8PkfOK4u3_XA",
    "outputId": "d7163872-a76d-44cc-b6b6-8e7d5c7e31bb"
   },
   "outputs": [
    {
     "name": "stdout",
     "output_type": "stream",
     "text": [
      "[Errno 2] No such file or directory: 'My Drive/Project 3 - Wine Quality'\n",
      "/content/drive/My Drive/Project 3 - Wine Quality\n"
     ]
    }
   ],
   "source": [
    "# cd My\\ Drive/Project\\ 3\\ -\\ Wine\\ Quality"
   ]
  },
  {
   "cell_type": "code",
   "execution_count": 10,
   "metadata": {
    "colab": {
     "base_uri": "https://localhost:8080/",
     "height": 632
    },
    "colab_type": "code",
    "executionInfo": {
     "elapsed": 1470,
     "status": "ok",
     "timestamp": 1569456958667,
     "user": {
      "displayName": "Michelle Williams",
      "photoUrl": "",
      "userId": "03015297040919770327"
     },
     "user_tz": 300
    },
    "id": "HhsJiJ2a4H4d",
    "outputId": "81d46c38-56a0-4ddd-94dd-be17e1a4e558"
   },
   "outputs": [
    {
     "ename": "FileNotFoundError",
     "evalue": "[Errno 2] File b'data/winemag-data-130k-v2.csv' does not exist: b'data/winemag-data-130k-v2.csv'",
     "output_type": "error",
     "traceback": [
      "\u001b[1;31m---------------------------------------------------------------------------\u001b[0m",
      "\u001b[1;31mFileNotFoundError\u001b[0m                         Traceback (most recent call last)",
      "\u001b[1;32m<ipython-input-10-a1f377c9824f>\u001b[0m in \u001b[0;36m<module>\u001b[1;34m\u001b[0m\n\u001b[0;32m      1\u001b[0m \u001b[1;31m# Import Wine Data\u001b[0m\u001b[1;33m\u001b[0m\u001b[1;33m\u001b[0m\u001b[1;33m\u001b[0m\u001b[0m\n\u001b[1;32m----> 2\u001b[1;33m \u001b[0mwine_data\u001b[0m \u001b[1;33m=\u001b[0m \u001b[0mpd\u001b[0m\u001b[1;33m.\u001b[0m\u001b[0mread_csv\u001b[0m\u001b[1;33m(\u001b[0m\u001b[1;34m'data/winemag-data-130k-v2.csv'\u001b[0m\u001b[1;33m)\u001b[0m\u001b[1;33m\u001b[0m\u001b[1;33m\u001b[0m\u001b[0m\n\u001b[0m\u001b[0;32m      3\u001b[0m \u001b[0mwine_data\u001b[0m\u001b[1;33m.\u001b[0m\u001b[0mhead\u001b[0m\u001b[1;33m(\u001b[0m\u001b[1;33m)\u001b[0m\u001b[1;33m\u001b[0m\u001b[1;33m\u001b[0m\u001b[0m\n",
      "\u001b[1;32m~\\Anaconda3\\lib\\site-packages\\pandas\\io\\parsers.py\u001b[0m in \u001b[0;36mparser_f\u001b[1;34m(filepath_or_buffer, sep, delimiter, header, names, index_col, usecols, squeeze, prefix, mangle_dupe_cols, dtype, engine, converters, true_values, false_values, skipinitialspace, skiprows, skipfooter, nrows, na_values, keep_default_na, na_filter, verbose, skip_blank_lines, parse_dates, infer_datetime_format, keep_date_col, date_parser, dayfirst, iterator, chunksize, compression, thousands, decimal, lineterminator, quotechar, quoting, doublequote, escapechar, comment, encoding, dialect, tupleize_cols, error_bad_lines, warn_bad_lines, delim_whitespace, low_memory, memory_map, float_precision)\u001b[0m\n\u001b[0;32m    700\u001b[0m                     skip_blank_lines=skip_blank_lines)\n\u001b[0;32m    701\u001b[0m \u001b[1;33m\u001b[0m\u001b[0m\n\u001b[1;32m--> 702\u001b[1;33m         \u001b[1;32mreturn\u001b[0m \u001b[0m_read\u001b[0m\u001b[1;33m(\u001b[0m\u001b[0mfilepath_or_buffer\u001b[0m\u001b[1;33m,\u001b[0m \u001b[0mkwds\u001b[0m\u001b[1;33m)\u001b[0m\u001b[1;33m\u001b[0m\u001b[1;33m\u001b[0m\u001b[0m\n\u001b[0m\u001b[0;32m    703\u001b[0m \u001b[1;33m\u001b[0m\u001b[0m\n\u001b[0;32m    704\u001b[0m     \u001b[0mparser_f\u001b[0m\u001b[1;33m.\u001b[0m\u001b[0m__name__\u001b[0m \u001b[1;33m=\u001b[0m \u001b[0mname\u001b[0m\u001b[1;33m\u001b[0m\u001b[1;33m\u001b[0m\u001b[0m\n",
      "\u001b[1;32m~\\Anaconda3\\lib\\site-packages\\pandas\\io\\parsers.py\u001b[0m in \u001b[0;36m_read\u001b[1;34m(filepath_or_buffer, kwds)\u001b[0m\n\u001b[0;32m    427\u001b[0m \u001b[1;33m\u001b[0m\u001b[0m\n\u001b[0;32m    428\u001b[0m     \u001b[1;31m# Create the parser.\u001b[0m\u001b[1;33m\u001b[0m\u001b[1;33m\u001b[0m\u001b[1;33m\u001b[0m\u001b[0m\n\u001b[1;32m--> 429\u001b[1;33m     \u001b[0mparser\u001b[0m \u001b[1;33m=\u001b[0m \u001b[0mTextFileReader\u001b[0m\u001b[1;33m(\u001b[0m\u001b[0mfilepath_or_buffer\u001b[0m\u001b[1;33m,\u001b[0m \u001b[1;33m**\u001b[0m\u001b[0mkwds\u001b[0m\u001b[1;33m)\u001b[0m\u001b[1;33m\u001b[0m\u001b[1;33m\u001b[0m\u001b[0m\n\u001b[0m\u001b[0;32m    430\u001b[0m \u001b[1;33m\u001b[0m\u001b[0m\n\u001b[0;32m    431\u001b[0m     \u001b[1;32mif\u001b[0m \u001b[0mchunksize\u001b[0m \u001b[1;32mor\u001b[0m \u001b[0miterator\u001b[0m\u001b[1;33m:\u001b[0m\u001b[1;33m\u001b[0m\u001b[1;33m\u001b[0m\u001b[0m\n",
      "\u001b[1;32m~\\Anaconda3\\lib\\site-packages\\pandas\\io\\parsers.py\u001b[0m in \u001b[0;36m__init__\u001b[1;34m(self, f, engine, **kwds)\u001b[0m\n\u001b[0;32m    893\u001b[0m             \u001b[0mself\u001b[0m\u001b[1;33m.\u001b[0m\u001b[0moptions\u001b[0m\u001b[1;33m[\u001b[0m\u001b[1;34m'has_index_names'\u001b[0m\u001b[1;33m]\u001b[0m \u001b[1;33m=\u001b[0m \u001b[0mkwds\u001b[0m\u001b[1;33m[\u001b[0m\u001b[1;34m'has_index_names'\u001b[0m\u001b[1;33m]\u001b[0m\u001b[1;33m\u001b[0m\u001b[1;33m\u001b[0m\u001b[0m\n\u001b[0;32m    894\u001b[0m \u001b[1;33m\u001b[0m\u001b[0m\n\u001b[1;32m--> 895\u001b[1;33m         \u001b[0mself\u001b[0m\u001b[1;33m.\u001b[0m\u001b[0m_make_engine\u001b[0m\u001b[1;33m(\u001b[0m\u001b[0mself\u001b[0m\u001b[1;33m.\u001b[0m\u001b[0mengine\u001b[0m\u001b[1;33m)\u001b[0m\u001b[1;33m\u001b[0m\u001b[1;33m\u001b[0m\u001b[0m\n\u001b[0m\u001b[0;32m    896\u001b[0m \u001b[1;33m\u001b[0m\u001b[0m\n\u001b[0;32m    897\u001b[0m     \u001b[1;32mdef\u001b[0m \u001b[0mclose\u001b[0m\u001b[1;33m(\u001b[0m\u001b[0mself\u001b[0m\u001b[1;33m)\u001b[0m\u001b[1;33m:\u001b[0m\u001b[1;33m\u001b[0m\u001b[1;33m\u001b[0m\u001b[0m\n",
      "\u001b[1;32m~\\Anaconda3\\lib\\site-packages\\pandas\\io\\parsers.py\u001b[0m in \u001b[0;36m_make_engine\u001b[1;34m(self, engine)\u001b[0m\n\u001b[0;32m   1120\u001b[0m     \u001b[1;32mdef\u001b[0m \u001b[0m_make_engine\u001b[0m\u001b[1;33m(\u001b[0m\u001b[0mself\u001b[0m\u001b[1;33m,\u001b[0m \u001b[0mengine\u001b[0m\u001b[1;33m=\u001b[0m\u001b[1;34m'c'\u001b[0m\u001b[1;33m)\u001b[0m\u001b[1;33m:\u001b[0m\u001b[1;33m\u001b[0m\u001b[1;33m\u001b[0m\u001b[0m\n\u001b[0;32m   1121\u001b[0m         \u001b[1;32mif\u001b[0m \u001b[0mengine\u001b[0m \u001b[1;33m==\u001b[0m \u001b[1;34m'c'\u001b[0m\u001b[1;33m:\u001b[0m\u001b[1;33m\u001b[0m\u001b[1;33m\u001b[0m\u001b[0m\n\u001b[1;32m-> 1122\u001b[1;33m             \u001b[0mself\u001b[0m\u001b[1;33m.\u001b[0m\u001b[0m_engine\u001b[0m \u001b[1;33m=\u001b[0m \u001b[0mCParserWrapper\u001b[0m\u001b[1;33m(\u001b[0m\u001b[0mself\u001b[0m\u001b[1;33m.\u001b[0m\u001b[0mf\u001b[0m\u001b[1;33m,\u001b[0m \u001b[1;33m**\u001b[0m\u001b[0mself\u001b[0m\u001b[1;33m.\u001b[0m\u001b[0moptions\u001b[0m\u001b[1;33m)\u001b[0m\u001b[1;33m\u001b[0m\u001b[1;33m\u001b[0m\u001b[0m\n\u001b[0m\u001b[0;32m   1123\u001b[0m         \u001b[1;32melse\u001b[0m\u001b[1;33m:\u001b[0m\u001b[1;33m\u001b[0m\u001b[1;33m\u001b[0m\u001b[0m\n\u001b[0;32m   1124\u001b[0m             \u001b[1;32mif\u001b[0m \u001b[0mengine\u001b[0m \u001b[1;33m==\u001b[0m \u001b[1;34m'python'\u001b[0m\u001b[1;33m:\u001b[0m\u001b[1;33m\u001b[0m\u001b[1;33m\u001b[0m\u001b[0m\n",
      "\u001b[1;32m~\\Anaconda3\\lib\\site-packages\\pandas\\io\\parsers.py\u001b[0m in \u001b[0;36m__init__\u001b[1;34m(self, src, **kwds)\u001b[0m\n\u001b[0;32m   1851\u001b[0m         \u001b[0mkwds\u001b[0m\u001b[1;33m[\u001b[0m\u001b[1;34m'usecols'\u001b[0m\u001b[1;33m]\u001b[0m \u001b[1;33m=\u001b[0m \u001b[0mself\u001b[0m\u001b[1;33m.\u001b[0m\u001b[0musecols\u001b[0m\u001b[1;33m\u001b[0m\u001b[1;33m\u001b[0m\u001b[0m\n\u001b[0;32m   1852\u001b[0m \u001b[1;33m\u001b[0m\u001b[0m\n\u001b[1;32m-> 1853\u001b[1;33m         \u001b[0mself\u001b[0m\u001b[1;33m.\u001b[0m\u001b[0m_reader\u001b[0m \u001b[1;33m=\u001b[0m \u001b[0mparsers\u001b[0m\u001b[1;33m.\u001b[0m\u001b[0mTextReader\u001b[0m\u001b[1;33m(\u001b[0m\u001b[0msrc\u001b[0m\u001b[1;33m,\u001b[0m \u001b[1;33m**\u001b[0m\u001b[0mkwds\u001b[0m\u001b[1;33m)\u001b[0m\u001b[1;33m\u001b[0m\u001b[1;33m\u001b[0m\u001b[0m\n\u001b[0m\u001b[0;32m   1854\u001b[0m         \u001b[0mself\u001b[0m\u001b[1;33m.\u001b[0m\u001b[0munnamed_cols\u001b[0m \u001b[1;33m=\u001b[0m \u001b[0mself\u001b[0m\u001b[1;33m.\u001b[0m\u001b[0m_reader\u001b[0m\u001b[1;33m.\u001b[0m\u001b[0munnamed_cols\u001b[0m\u001b[1;33m\u001b[0m\u001b[1;33m\u001b[0m\u001b[0m\n\u001b[0;32m   1855\u001b[0m \u001b[1;33m\u001b[0m\u001b[0m\n",
      "\u001b[1;32mpandas/_libs/parsers.pyx\u001b[0m in \u001b[0;36mpandas._libs.parsers.TextReader.__cinit__\u001b[1;34m()\u001b[0m\n",
      "\u001b[1;32mpandas/_libs/parsers.pyx\u001b[0m in \u001b[0;36mpandas._libs.parsers.TextReader._setup_parser_source\u001b[1;34m()\u001b[0m\n",
      "\u001b[1;31mFileNotFoundError\u001b[0m: [Errno 2] File b'data/winemag-data-130k-v2.csv' does not exist: b'data/winemag-data-130k-v2.csv'"
     ]
    }
   ],
   "source": [
    "# Import Wine Data\n",
    "wine_data = pd.read_csv('data/winemag-data-130k-v2.csv')\n",
    "wine_data.head()"
   ]
  },
  {
   "cell_type": "code",
   "execution_count": 0,
   "metadata": {
    "colab": {
     "base_uri": "https://localhost:8080/",
     "height": 289
    },
    "colab_type": "code",
    "executionInfo": {
     "elapsed": 1564,
     "status": "ok",
     "timestamp": 1569456958774,
     "user": {
      "displayName": "Michelle Williams",
      "photoUrl": "",
      "userId": "03015297040919770327"
     },
     "user_tz": 300
    },
    "id": "mwBSimlz4oCI",
    "outputId": "e0c88a4f-4e22-40b2-fc7c-bf3589b46724"
   },
   "outputs": [
    {
     "data": {
      "text/html": [
       "<div>\n",
       "<style scoped>\n",
       "    .dataframe tbody tr th:only-of-type {\n",
       "        vertical-align: middle;\n",
       "    }\n",
       "\n",
       "    .dataframe tbody tr th {\n",
       "        vertical-align: top;\n",
       "    }\n",
       "\n",
       "    .dataframe thead th {\n",
       "        text-align: right;\n",
       "    }\n",
       "</style>\n",
       "<table border=\"1\" class=\"dataframe\">\n",
       "  <thead>\n",
       "    <tr style=\"text-align: right;\">\n",
       "      <th></th>\n",
       "      <th>ID</th>\n",
       "      <th>country</th>\n",
       "      <th>description</th>\n",
       "      <th>designation</th>\n",
       "      <th>points</th>\n",
       "      <th>price</th>\n",
       "      <th>province</th>\n",
       "      <th>title</th>\n",
       "      <th>variety</th>\n",
       "      <th>winery</th>\n",
       "    </tr>\n",
       "  </thead>\n",
       "  <tbody>\n",
       "    <tr>\n",
       "      <th>0</th>\n",
       "      <td>0</td>\n",
       "      <td>Italy</td>\n",
       "      <td>Aromas include tropical fruit, broom, brimston...</td>\n",
       "      <td>Vulkà Bianco</td>\n",
       "      <td>87</td>\n",
       "      <td>NaN</td>\n",
       "      <td>Sicily &amp; Sardinia</td>\n",
       "      <td>Nicosia 2013 Vulkà Bianco  (Etna)</td>\n",
       "      <td>White Blend</td>\n",
       "      <td>Nicosia</td>\n",
       "    </tr>\n",
       "    <tr>\n",
       "      <th>1</th>\n",
       "      <td>1</td>\n",
       "      <td>Portugal</td>\n",
       "      <td>This is ripe and fruity, a wine that is smooth...</td>\n",
       "      <td>Avidagos</td>\n",
       "      <td>87</td>\n",
       "      <td>15.0</td>\n",
       "      <td>Douro</td>\n",
       "      <td>Quinta dos Avidagos 2011 Avidagos Red (Douro)</td>\n",
       "      <td>Portuguese Red</td>\n",
       "      <td>Quinta dos Avidagos</td>\n",
       "    </tr>\n",
       "    <tr>\n",
       "      <th>2</th>\n",
       "      <td>2</td>\n",
       "      <td>US</td>\n",
       "      <td>Tart and snappy, the flavors of lime flesh and...</td>\n",
       "      <td>NaN</td>\n",
       "      <td>87</td>\n",
       "      <td>14.0</td>\n",
       "      <td>Oregon</td>\n",
       "      <td>Rainstorm 2013 Pinot Gris (Willamette Valley)</td>\n",
       "      <td>Pinot Gris</td>\n",
       "      <td>Rainstorm</td>\n",
       "    </tr>\n",
       "    <tr>\n",
       "      <th>3</th>\n",
       "      <td>3</td>\n",
       "      <td>US</td>\n",
       "      <td>Pineapple rind, lemon pith and orange blossom ...</td>\n",
       "      <td>Reserve Late Harvest</td>\n",
       "      <td>87</td>\n",
       "      <td>13.0</td>\n",
       "      <td>Michigan</td>\n",
       "      <td>St. Julian 2013 Reserve Late Harvest Riesling ...</td>\n",
       "      <td>Riesling</td>\n",
       "      <td>St. Julian</td>\n",
       "    </tr>\n",
       "    <tr>\n",
       "      <th>4</th>\n",
       "      <td>4</td>\n",
       "      <td>US</td>\n",
       "      <td>Much like the regular bottling from 2012, this...</td>\n",
       "      <td>Vintner's Reserve Wild Child Block</td>\n",
       "      <td>87</td>\n",
       "      <td>65.0</td>\n",
       "      <td>Oregon</td>\n",
       "      <td>Sweet Cheeks 2012 Vintner's Reserve Wild Child...</td>\n",
       "      <td>Pinot Noir</td>\n",
       "      <td>Sweet Cheeks</td>\n",
       "    </tr>\n",
       "  </tbody>\n",
       "</table>\n",
       "</div>"
      ],
      "text/plain": [
       "   ID   country  ...         variety               winery\n",
       "0   0     Italy  ...     White Blend              Nicosia\n",
       "1   1  Portugal  ...  Portuguese Red  Quinta dos Avidagos\n",
       "2   2        US  ...      Pinot Gris            Rainstorm\n",
       "3   3        US  ...        Riesling           St. Julian\n",
       "4   4        US  ...      Pinot Noir         Sweet Cheeks\n",
       "\n",
       "[5 rows x 10 columns]"
      ]
     },
     "execution_count": 5,
     "metadata": {
      "tags": []
     },
     "output_type": "execute_result"
    }
   ],
   "source": [
    "wine_data = wine_data.drop(columns =['region_1', 'region_2', 'taster_name', 'taster_twitter_handle'])\n",
    "wine_data.head()"
   ]
  },
  {
   "cell_type": "code",
   "execution_count": 0,
   "metadata": {
    "colab": {
     "base_uri": "https://localhost:8080/",
     "height": 289
    },
    "colab_type": "code",
    "executionInfo": {
     "elapsed": 1670,
     "status": "ok",
     "timestamp": 1569456958891,
     "user": {
      "displayName": "Michelle Williams",
      "photoUrl": "",
      "userId": "03015297040919770327"
     },
     "user_tz": 300
    },
    "id": "enLGkaeK4805",
    "outputId": "da7b79b7-7c8e-4109-da71-1a5ba6bef44b"
   },
   "outputs": [
    {
     "data": {
      "text/html": [
       "<div>\n",
       "<style scoped>\n",
       "    .dataframe tbody tr th:only-of-type {\n",
       "        vertical-align: middle;\n",
       "    }\n",
       "\n",
       "    .dataframe tbody tr th {\n",
       "        vertical-align: top;\n",
       "    }\n",
       "\n",
       "    .dataframe thead th {\n",
       "        text-align: right;\n",
       "    }\n",
       "</style>\n",
       "<table border=\"1\" class=\"dataframe\">\n",
       "  <thead>\n",
       "    <tr style=\"text-align: right;\">\n",
       "      <th></th>\n",
       "      <th>ID</th>\n",
       "      <th>country</th>\n",
       "      <th>description</th>\n",
       "      <th>designation</th>\n",
       "      <th>points</th>\n",
       "      <th>price</th>\n",
       "      <th>province</th>\n",
       "      <th>title</th>\n",
       "      <th>variety</th>\n",
       "      <th>winery</th>\n",
       "    </tr>\n",
       "  </thead>\n",
       "  <tbody>\n",
       "    <tr>\n",
       "      <th>1</th>\n",
       "      <td>1</td>\n",
       "      <td>Portugal</td>\n",
       "      <td>This is ripe and fruity, a wine that is smooth...</td>\n",
       "      <td>Avidagos</td>\n",
       "      <td>87</td>\n",
       "      <td>15.0</td>\n",
       "      <td>Douro</td>\n",
       "      <td>Quinta dos Avidagos 2011 Avidagos Red (Douro)</td>\n",
       "      <td>Portuguese Red</td>\n",
       "      <td>Quinta dos Avidagos</td>\n",
       "    </tr>\n",
       "    <tr>\n",
       "      <th>3</th>\n",
       "      <td>3</td>\n",
       "      <td>US</td>\n",
       "      <td>Pineapple rind, lemon pith and orange blossom ...</td>\n",
       "      <td>Reserve Late Harvest</td>\n",
       "      <td>87</td>\n",
       "      <td>13.0</td>\n",
       "      <td>Michigan</td>\n",
       "      <td>St. Julian 2013 Reserve Late Harvest Riesling ...</td>\n",
       "      <td>Riesling</td>\n",
       "      <td>St. Julian</td>\n",
       "    </tr>\n",
       "    <tr>\n",
       "      <th>4</th>\n",
       "      <td>4</td>\n",
       "      <td>US</td>\n",
       "      <td>Much like the regular bottling from 2012, this...</td>\n",
       "      <td>Vintner's Reserve Wild Child Block</td>\n",
       "      <td>87</td>\n",
       "      <td>65.0</td>\n",
       "      <td>Oregon</td>\n",
       "      <td>Sweet Cheeks 2012 Vintner's Reserve Wild Child...</td>\n",
       "      <td>Pinot Noir</td>\n",
       "      <td>Sweet Cheeks</td>\n",
       "    </tr>\n",
       "    <tr>\n",
       "      <th>5</th>\n",
       "      <td>5</td>\n",
       "      <td>Spain</td>\n",
       "      <td>Blackberry and raspberry aromas show a typical...</td>\n",
       "      <td>Ars In Vitro</td>\n",
       "      <td>87</td>\n",
       "      <td>15.0</td>\n",
       "      <td>Northern Spain</td>\n",
       "      <td>Tandem 2011 Ars In Vitro Tempranillo-Merlot (N...</td>\n",
       "      <td>Tempranillo-Merlot</td>\n",
       "      <td>Tandem</td>\n",
       "    </tr>\n",
       "    <tr>\n",
       "      <th>6</th>\n",
       "      <td>6</td>\n",
       "      <td>Italy</td>\n",
       "      <td>Here's a bright, informal red that opens with ...</td>\n",
       "      <td>Belsito</td>\n",
       "      <td>87</td>\n",
       "      <td>16.0</td>\n",
       "      <td>Sicily &amp; Sardinia</td>\n",
       "      <td>Terre di Giurfo 2013 Belsito Frappato (Vittoria)</td>\n",
       "      <td>Frappato</td>\n",
       "      <td>Terre di Giurfo</td>\n",
       "    </tr>\n",
       "  </tbody>\n",
       "</table>\n",
       "</div>"
      ],
      "text/plain": [
       "   ID   country  ...             variety               winery\n",
       "1   1  Portugal  ...      Portuguese Red  Quinta dos Avidagos\n",
       "3   3        US  ...            Riesling           St. Julian\n",
       "4   4        US  ...          Pinot Noir         Sweet Cheeks\n",
       "5   5     Spain  ...  Tempranillo-Merlot               Tandem\n",
       "6   6     Italy  ...            Frappato      Terre di Giurfo\n",
       "\n",
       "[5 rows x 10 columns]"
      ]
     },
     "execution_count": 6,
     "metadata": {
      "tags": []
     },
     "output_type": "execute_result"
    }
   ],
   "source": [
    "wine_data = wine_data.dropna()\n",
    "wine_data.head()"
   ]
  },
  {
   "cell_type": "code",
   "execution_count": 0,
   "metadata": {
    "colab": {
     "base_uri": "https://localhost:8080/",
     "height": 34
    },
    "colab_type": "code",
    "executionInfo": {
     "elapsed": 1661,
     "status": "ok",
     "timestamp": 1569456958892,
     "user": {
      "displayName": "Michelle Williams",
      "photoUrl": "",
      "userId": "03015297040919770327"
     },
     "user_tz": 300
    },
    "id": "cekI0did5o7f",
    "outputId": "b48768bd-8852-439a-f9dd-6d05f00ce26f"
   },
   "outputs": [
    {
     "data": {
      "text/plain": [
       "86148"
      ]
     },
     "execution_count": 7,
     "metadata": {
      "tags": []
     },
     "output_type": "execute_result"
    }
   ],
   "source": [
    "len(wine_data)"
   ]
  },
  {
   "cell_type": "code",
   "execution_count": 0,
   "metadata": {
    "colab": {},
    "colab_type": "code",
    "id": "o2bvovSn5smO"
   },
   "outputs": [],
   "source": [
    "wine_data.to_csv('data/wine_data_cleaned.csv', index=False)"
   ]
  },
  {
   "cell_type": "code",
   "execution_count": null,
   "metadata": {},
   "outputs": [],
   "source": [
    "# Import Wine Data\n",
    "wine_data = pd.read_csv('data/winemag-data-130k-v2.csv')\n",
    "wine_data.head()"
   ]
  },
  {
   "cell_type": "markdown",
   "metadata": {
    "colab_type": "text",
    "id": "8HVecwY6fRpg"
   },
   "source": [
    "# Clean data by catorizing based on variety"
   ]
  },
  {
   "cell_type": "code",
   "execution_count": 6,
   "metadata": {},
   "outputs": [
    {
     "data": {
      "text/html": [
       "<div>\n",
       "<style scoped>\n",
       "    .dataframe tbody tr th:only-of-type {\n",
       "        vertical-align: middle;\n",
       "    }\n",
       "\n",
       "    .dataframe tbody tr th {\n",
       "        vertical-align: top;\n",
       "    }\n",
       "\n",
       "    .dataframe thead th {\n",
       "        text-align: right;\n",
       "    }\n",
       "</style>\n",
       "<table border=\"1\" class=\"dataframe\">\n",
       "  <thead>\n",
       "    <tr style=\"text-align: right;\">\n",
       "      <th></th>\n",
       "      <th>ID</th>\n",
       "      <th>country</th>\n",
       "      <th>description</th>\n",
       "      <th>designation</th>\n",
       "      <th>points</th>\n",
       "      <th>price</th>\n",
       "      <th>province</th>\n",
       "      <th>title</th>\n",
       "      <th>variety</th>\n",
       "      <th>winery</th>\n",
       "      <th>Color</th>\n",
       "    </tr>\n",
       "  </thead>\n",
       "  <tbody>\n",
       "    <tr>\n",
       "      <th>0</th>\n",
       "      <td>1</td>\n",
       "      <td>Portugal</td>\n",
       "      <td>This is ripe and fruity, a wine that is smooth...</td>\n",
       "      <td>Avidagos</td>\n",
       "      <td>87</td>\n",
       "      <td>15</td>\n",
       "      <td>Douro</td>\n",
       "      <td>Quinta dos Avidagos 2011 Avidagos Red (Douro)</td>\n",
       "      <td>Portuguese Red</td>\n",
       "      <td>Quinta dos Avidagos</td>\n",
       "      <td>Red</td>\n",
       "    </tr>\n",
       "    <tr>\n",
       "      <th>1</th>\n",
       "      <td>3</td>\n",
       "      <td>US</td>\n",
       "      <td>Pineapple rind, lemon pith and orange blossom ...</td>\n",
       "      <td>Reserve Late Harvest</td>\n",
       "      <td>87</td>\n",
       "      <td>13</td>\n",
       "      <td>Michigan</td>\n",
       "      <td>St. Julian 2013 Reserve Late Harvest Riesling ...</td>\n",
       "      <td>Riesling</td>\n",
       "      <td>St. Julian</td>\n",
       "      <td>White</td>\n",
       "    </tr>\n",
       "    <tr>\n",
       "      <th>2</th>\n",
       "      <td>4</td>\n",
       "      <td>US</td>\n",
       "      <td>Much like the regular bottling from 2012, this...</td>\n",
       "      <td>Vintner's Reserve Wild Child Block</td>\n",
       "      <td>87</td>\n",
       "      <td>65</td>\n",
       "      <td>Oregon</td>\n",
       "      <td>Sweet Cheeks 2012 Vintner's Reserve Wild Child...</td>\n",
       "      <td>Pinot Noir</td>\n",
       "      <td>Sweet Cheeks</td>\n",
       "      <td>Red</td>\n",
       "    </tr>\n",
       "    <tr>\n",
       "      <th>3</th>\n",
       "      <td>5</td>\n",
       "      <td>Spain</td>\n",
       "      <td>Blackberry and raspberry aromas show a typical...</td>\n",
       "      <td>Ars In Vitro</td>\n",
       "      <td>87</td>\n",
       "      <td>15</td>\n",
       "      <td>Northern Spain</td>\n",
       "      <td>Tandem 2011 Ars In Vitro Tempranillo-Merlot (N...</td>\n",
       "      <td>Tempranillo-Merlot</td>\n",
       "      <td>Tandem</td>\n",
       "      <td>Red</td>\n",
       "    </tr>\n",
       "    <tr>\n",
       "      <th>4</th>\n",
       "      <td>6</td>\n",
       "      <td>Italy</td>\n",
       "      <td>Here's a bright, informal red that opens with ...</td>\n",
       "      <td>Belsito</td>\n",
       "      <td>87</td>\n",
       "      <td>16</td>\n",
       "      <td>Sicily &amp; Sardinia</td>\n",
       "      <td>Terre di Giurfo 2013 Belsito Frappato (Vittoria)</td>\n",
       "      <td>Frappato</td>\n",
       "      <td>Terre di Giurfo</td>\n",
       "      <td>Red</td>\n",
       "    </tr>\n",
       "  </tbody>\n",
       "</table>\n",
       "</div>"
      ],
      "text/plain": [
       "   ID   country                                        description  \\\n",
       "0   1  Portugal  This is ripe and fruity, a wine that is smooth...   \n",
       "1   3        US  Pineapple rind, lemon pith and orange blossom ...   \n",
       "2   4        US  Much like the regular bottling from 2012, this...   \n",
       "3   5     Spain  Blackberry and raspberry aromas show a typical...   \n",
       "4   6     Italy  Here's a bright, informal red that opens with ...   \n",
       "\n",
       "                          designation  points  price           province  \\\n",
       "0                            Avidagos      87     15              Douro   \n",
       "1                Reserve Late Harvest      87     13           Michigan   \n",
       "2  Vintner's Reserve Wild Child Block      87     65             Oregon   \n",
       "3                        Ars In Vitro      87     15     Northern Spain   \n",
       "4                             Belsito      87     16  Sicily & Sardinia   \n",
       "\n",
       "                                               title             variety  \\\n",
       "0      Quinta dos Avidagos 2011 Avidagos Red (Douro)      Portuguese Red   \n",
       "1  St. Julian 2013 Reserve Late Harvest Riesling ...            Riesling   \n",
       "2  Sweet Cheeks 2012 Vintner's Reserve Wild Child...          Pinot Noir   \n",
       "3  Tandem 2011 Ars In Vitro Tempranillo-Merlot (N...  Tempranillo-Merlot   \n",
       "4   Terre di Giurfo 2013 Belsito Frappato (Vittoria)            Frappato   \n",
       "\n",
       "                winery  Color  \n",
       "0  Quinta dos Avidagos    Red  \n",
       "1           St. Julian  White  \n",
       "2         Sweet Cheeks    Red  \n",
       "3               Tandem    Red  \n",
       "4      Terre di Giurfo    Red  "
      ]
     },
     "execution_count": 6,
     "metadata": {},
     "output_type": "execute_result"
    }
   ],
   "source": [
    "# Import Wine Data\n",
    "df_cleaning_white = pd.read_csv('data/wine_data_cleaned_with_color.csv')\n",
    "df_cleaning_white.head()"
   ]
  },
  {
   "cell_type": "code",
   "execution_count": null,
   "metadata": {},
   "outputs": [],
   "source": []
  },
  {
   "cell_type": "code",
   "execution_count": 7,
   "metadata": {},
   "outputs": [
    {
     "data": {
      "text/html": [
       "<div>\n",
       "<style scoped>\n",
       "    .dataframe tbody tr th:only-of-type {\n",
       "        vertical-align: middle;\n",
       "    }\n",
       "\n",
       "    .dataframe tbody tr th {\n",
       "        vertical-align: top;\n",
       "    }\n",
       "\n",
       "    .dataframe thead th {\n",
       "        text-align: right;\n",
       "    }\n",
       "</style>\n",
       "<table border=\"1\" class=\"dataframe\">\n",
       "  <thead>\n",
       "    <tr style=\"text-align: right;\">\n",
       "      <th></th>\n",
       "      <th>ID</th>\n",
       "      <th>country</th>\n",
       "      <th>description</th>\n",
       "      <th>designation</th>\n",
       "      <th>points</th>\n",
       "      <th>price</th>\n",
       "      <th>province</th>\n",
       "      <th>title</th>\n",
       "      <th>variety</th>\n",
       "      <th>winery</th>\n",
       "      <th>Color</th>\n",
       "    </tr>\n",
       "  </thead>\n",
       "  <tbody>\n",
       "    <tr>\n",
       "      <th>1</th>\n",
       "      <td>3</td>\n",
       "      <td>US</td>\n",
       "      <td>Pineapple rind, lemon pith and orange blossom ...</td>\n",
       "      <td>Reserve Late Harvest</td>\n",
       "      <td>87</td>\n",
       "      <td>13</td>\n",
       "      <td>Michigan</td>\n",
       "      <td>St. Julian 2013 Reserve Late Harvest Riesling ...</td>\n",
       "      <td>Riesling</td>\n",
       "      <td>St. Julian</td>\n",
       "      <td>White</td>\n",
       "    </tr>\n",
       "    <tr>\n",
       "      <th>5</th>\n",
       "      <td>8</td>\n",
       "      <td>Germany</td>\n",
       "      <td>Savory dried thyme notes accent sunnier flavor...</td>\n",
       "      <td>Shine</td>\n",
       "      <td>87</td>\n",
       "      <td>12</td>\n",
       "      <td>Rheinhessen</td>\n",
       "      <td>Heinz Eifel 2013 Shine Gewürztraminer (Rheinhe...</td>\n",
       "      <td>Gewürztraminer</td>\n",
       "      <td>Heinz Eifel</td>\n",
       "      <td>White</td>\n",
       "    </tr>\n",
       "    <tr>\n",
       "      <th>8</th>\n",
       "      <td>15</td>\n",
       "      <td>Germany</td>\n",
       "      <td>Zesty orange peels and apple notes abound in t...</td>\n",
       "      <td>Devon</td>\n",
       "      <td>87</td>\n",
       "      <td>24</td>\n",
       "      <td>Mosel</td>\n",
       "      <td>Richard Böcking 2013 Devon Riesling (Mosel)</td>\n",
       "      <td>Riesling</td>\n",
       "      <td>Richard Böcking</td>\n",
       "      <td>White</td>\n",
       "    </tr>\n",
       "    <tr>\n",
       "      <th>13</th>\n",
       "      <td>22</td>\n",
       "      <td>Italy</td>\n",
       "      <td>Delicate aromas recall white flower and citrus...</td>\n",
       "      <td>Ficiligno</td>\n",
       "      <td>87</td>\n",
       "      <td>19</td>\n",
       "      <td>Sicily &amp; Sardinia</td>\n",
       "      <td>Baglio di Pianetto 2007 Ficiligno White (Sicilia)</td>\n",
       "      <td>White Blend</td>\n",
       "      <td>Baglio di Pianetto</td>\n",
       "      <td>White</td>\n",
       "    </tr>\n",
       "    <tr>\n",
       "      <th>17</th>\n",
       "      <td>26</td>\n",
       "      <td>Italy</td>\n",
       "      <td>Pretty aromas of yellow flower and stone fruit...</td>\n",
       "      <td>Dalila</td>\n",
       "      <td>87</td>\n",
       "      <td>13</td>\n",
       "      <td>Sicily &amp; Sardinia</td>\n",
       "      <td>Stemmari 2013 Dalila White (Terre Siciliane)</td>\n",
       "      <td>White Blend</td>\n",
       "      <td>Stemmari</td>\n",
       "      <td>White</td>\n",
       "    </tr>\n",
       "  </tbody>\n",
       "</table>\n",
       "</div>"
      ],
      "text/plain": [
       "    ID  country                                        description  \\\n",
       "1    3       US  Pineapple rind, lemon pith and orange blossom ...   \n",
       "5    8  Germany  Savory dried thyme notes accent sunnier flavor...   \n",
       "8   15  Germany  Zesty orange peels and apple notes abound in t...   \n",
       "13  22    Italy  Delicate aromas recall white flower and citrus...   \n",
       "17  26    Italy  Pretty aromas of yellow flower and stone fruit...   \n",
       "\n",
       "             designation  points  price           province  \\\n",
       "1   Reserve Late Harvest      87     13           Michigan   \n",
       "5                  Shine      87     12        Rheinhessen   \n",
       "8                  Devon      87     24              Mosel   \n",
       "13             Ficiligno      87     19  Sicily & Sardinia   \n",
       "17                Dalila      87     13  Sicily & Sardinia   \n",
       "\n",
       "                                                title         variety  \\\n",
       "1   St. Julian 2013 Reserve Late Harvest Riesling ...        Riesling   \n",
       "5   Heinz Eifel 2013 Shine Gewürztraminer (Rheinhe...  Gewürztraminer   \n",
       "8         Richard Böcking 2013 Devon Riesling (Mosel)        Riesling   \n",
       "13  Baglio di Pianetto 2007 Ficiligno White (Sicilia)     White Blend   \n",
       "17       Stemmari 2013 Dalila White (Terre Siciliane)     White Blend   \n",
       "\n",
       "                winery  Color  \n",
       "1           St. Julian  White  \n",
       "5          Heinz Eifel  White  \n",
       "8      Richard Böcking  White  \n",
       "13  Baglio di Pianetto  White  \n",
       "17            Stemmari  White  "
      ]
     },
     "execution_count": 7,
     "metadata": {},
     "output_type": "execute_result"
    }
   ],
   "source": [
    "# Create dataframe of only reds\n",
    "df_cleaning_white = df_cleaning_white[df_cleaning_white[\"Color\"] != 'Red']\n",
    "df_cleaning_white = df_cleaning_white[df_cleaning_white[\"Color\"] != 'Blush']\n",
    "df_cleaning_white.head()"
   ]
  },
  {
   "cell_type": "code",
   "execution_count": 11,
   "metadata": {},
   "outputs": [
    {
     "data": {
      "text/html": [
       "<div>\n",
       "<style scoped>\n",
       "    .dataframe tbody tr th:only-of-type {\n",
       "        vertical-align: middle;\n",
       "    }\n",
       "\n",
       "    .dataframe tbody tr th {\n",
       "        vertical-align: top;\n",
       "    }\n",
       "\n",
       "    .dataframe thead th {\n",
       "        text-align: right;\n",
       "    }\n",
       "</style>\n",
       "<table border=\"1\" class=\"dataframe\">\n",
       "  <thead>\n",
       "    <tr style=\"text-align: right;\">\n",
       "      <th></th>\n",
       "      <th>ID</th>\n",
       "      <th>country</th>\n",
       "      <th>description</th>\n",
       "      <th>designation</th>\n",
       "      <th>points</th>\n",
       "      <th>price</th>\n",
       "      <th>province</th>\n",
       "      <th>title</th>\n",
       "      <th>variety</th>\n",
       "      <th>winery</th>\n",
       "      <th>Color</th>\n",
       "      <th>variety generic</th>\n",
       "    </tr>\n",
       "  </thead>\n",
       "  <tbody>\n",
       "    <tr>\n",
       "      <th>1</th>\n",
       "      <td>3</td>\n",
       "      <td>US</td>\n",
       "      <td>Pineapple rind, lemon pith and orange blossom ...</td>\n",
       "      <td>Reserve Late Harvest</td>\n",
       "      <td>87</td>\n",
       "      <td>13</td>\n",
       "      <td>Michigan</td>\n",
       "      <td>St. Julian 2013 Reserve Late Harvest Riesling ...</td>\n",
       "      <td>Riesling</td>\n",
       "      <td>St. Julian</td>\n",
       "      <td>White</td>\n",
       "      <td>Riesling</td>\n",
       "    </tr>\n",
       "    <tr>\n",
       "      <th>5</th>\n",
       "      <td>8</td>\n",
       "      <td>Germany</td>\n",
       "      <td>Savory dried thyme notes accent sunnier flavor...</td>\n",
       "      <td>Shine</td>\n",
       "      <td>87</td>\n",
       "      <td>12</td>\n",
       "      <td>Rheinhessen</td>\n",
       "      <td>Heinz Eifel 2013 Shine Gewürztraminer (Rheinhe...</td>\n",
       "      <td>Gewürztraminer</td>\n",
       "      <td>Heinz Eifel</td>\n",
       "      <td>White</td>\n",
       "      <td>Gewürztraminer</td>\n",
       "    </tr>\n",
       "    <tr>\n",
       "      <th>8</th>\n",
       "      <td>15</td>\n",
       "      <td>Germany</td>\n",
       "      <td>Zesty orange peels and apple notes abound in t...</td>\n",
       "      <td>Devon</td>\n",
       "      <td>87</td>\n",
       "      <td>24</td>\n",
       "      <td>Mosel</td>\n",
       "      <td>Richard Böcking 2013 Devon Riesling (Mosel)</td>\n",
       "      <td>Riesling</td>\n",
       "      <td>Richard Böcking</td>\n",
       "      <td>White</td>\n",
       "      <td>Riesling</td>\n",
       "    </tr>\n",
       "    <tr>\n",
       "      <th>13</th>\n",
       "      <td>22</td>\n",
       "      <td>Italy</td>\n",
       "      <td>Delicate aromas recall white flower and citrus...</td>\n",
       "      <td>Ficiligno</td>\n",
       "      <td>87</td>\n",
       "      <td>19</td>\n",
       "      <td>Sicily &amp; Sardinia</td>\n",
       "      <td>Baglio di Pianetto 2007 Ficiligno White (Sicilia)</td>\n",
       "      <td>White Blend</td>\n",
       "      <td>Baglio di Pianetto</td>\n",
       "      <td>White</td>\n",
       "      <td>White Blend</td>\n",
       "    </tr>\n",
       "    <tr>\n",
       "      <th>17</th>\n",
       "      <td>26</td>\n",
       "      <td>Italy</td>\n",
       "      <td>Pretty aromas of yellow flower and stone fruit...</td>\n",
       "      <td>Dalila</td>\n",
       "      <td>87</td>\n",
       "      <td>13</td>\n",
       "      <td>Sicily &amp; Sardinia</td>\n",
       "      <td>Stemmari 2013 Dalila White (Terre Siciliane)</td>\n",
       "      <td>White Blend</td>\n",
       "      <td>Stemmari</td>\n",
       "      <td>White</td>\n",
       "      <td>White Blend</td>\n",
       "    </tr>\n",
       "  </tbody>\n",
       "</table>\n",
       "</div>"
      ],
      "text/plain": [
       "    ID  country                                        description  \\\n",
       "1    3       US  Pineapple rind, lemon pith and orange blossom ...   \n",
       "5    8  Germany  Savory dried thyme notes accent sunnier flavor...   \n",
       "8   15  Germany  Zesty orange peels and apple notes abound in t...   \n",
       "13  22    Italy  Delicate aromas recall white flower and citrus...   \n",
       "17  26    Italy  Pretty aromas of yellow flower and stone fruit...   \n",
       "\n",
       "             designation  points  price           province  \\\n",
       "1   Reserve Late Harvest      87     13           Michigan   \n",
       "5                  Shine      87     12        Rheinhessen   \n",
       "8                  Devon      87     24              Mosel   \n",
       "13             Ficiligno      87     19  Sicily & Sardinia   \n",
       "17                Dalila      87     13  Sicily & Sardinia   \n",
       "\n",
       "                                                title         variety  \\\n",
       "1   St. Julian 2013 Reserve Late Harvest Riesling ...        Riesling   \n",
       "5   Heinz Eifel 2013 Shine Gewürztraminer (Rheinhe...  Gewürztraminer   \n",
       "8         Richard Böcking 2013 Devon Riesling (Mosel)        Riesling   \n",
       "13  Baglio di Pianetto 2007 Ficiligno White (Sicilia)     White Blend   \n",
       "17       Stemmari 2013 Dalila White (Terre Siciliane)     White Blend   \n",
       "\n",
       "                winery  Color variety generic  \n",
       "1           St. Julian  White        Riesling  \n",
       "5          Heinz Eifel  White  Gewürztraminer  \n",
       "8      Richard Böcking  White        Riesling  \n",
       "13  Baglio di Pianetto  White     White Blend  \n",
       "17            Stemmari  White     White Blend  "
      ]
     },
     "execution_count": 11,
     "metadata": {},
     "output_type": "execute_result"
    }
   ],
   "source": [
    "df_cleaning_white['variety generic'] = df_cleaning_white ['variety']\n",
    "df_cleaning_white.head()"
   ]
  },
  {
   "cell_type": "code",
   "execution_count": 12,
   "metadata": {},
   "outputs": [
    {
     "name": "stdout",
     "output_type": "stream",
     "text": [
      "281\n"
     ]
    }
   ],
   "source": [
    "print(df_cleaning_white['variety generic'].nunique())"
   ]
  },
  {
   "cell_type": "code",
   "execution_count": 13,
   "metadata": {},
   "outputs": [
    {
     "name": "stdout",
     "output_type": "stream",
     "text": [
      "273\n"
     ]
    },
    {
     "data": {
      "text/plain": [
       "array(['Riesling', 'Gewürztraminer', 'White Blend', 'Chardonnay',\n",
       "       'Inzolia', 'Bordeaux-style White Blend', 'Grillo',\n",
       "       'Champagne Blend', 'Sauvignon Blanc', 'Petit Manseng', 'Vernaccia',\n",
       "       'Viognier', 'Vermentino', 'Alsace white blend', 'Portuguese White',\n",
       "       'Chenin Blanc', 'Verdejo', 'Furmint', 'Grüner Veltliner',\n",
       "       'Savagnin', 'Sparkling Blend', 'Muscat', 'Muscadelle',\n",
       "       'Tempranillo', 'Cortese', 'Melon', 'Rhône-style White Blend',\n",
       "       'Vidal', 'Verdelho', 'Moscato', 'Marsanne', 'Scheurebe', 'Kerner',\n",
       "       'Glera', 'Garganega', 'Viura', 'Torrontés', 'Antão Vaz',\n",
       "       'Verdejo-Viura', 'Verduzzo', 'Verdicchio', 'Silvaner',\n",
       "       'Carricante', 'Sylvaner', 'Fiano', 'Roussanne', 'Avesso',\n",
       "       'Muscat Blanc à Petits Grains', 'Xarel-lo', 'Greco', 'Trebbiano',\n",
       "       'Insolia', 'Weissburgunder', 'Marsanne-Roussanne', 'Prié Blanc',\n",
       "       'Sherry', 'Falanghina', 'Pansa Blanca', 'Albariño',\n",
       "       'Sauvignon Blanc-Semillon', 'Bical', 'Moscatel', 'Malvasia Bianca',\n",
       "       'Gelber Muskateller', 'Turbiana', 'Malagousia', 'Assyrtiko',\n",
       "       'Rieslaner', 'Traminette', 'Marsanne-Viognier',\n",
       "       'Gewürztraminer-Riesling', 'Cerceal', 'Semillon-Sauvignon Blanc',\n",
       "       'Fernão Pires', 'Arinto', 'Pecorino', 'Albanello', 'Friulano',\n",
       "       'Meritage', 'Blanc du Bois', 'Colombard', 'Assyrtico',\n",
       "       'Provence white blend', 'Albana', 'Muskat', 'Moschofilero',\n",
       "       'Fumé Blanc', 'Encruzado', 'Torbato', 'Garnacha Blanca',\n",
       "       'Pallagrello', 'Catarratto', 'Rotgipfler', 'Malvasia', 'Kisi',\n",
       "       'Ribolla Gialla', 'Zierfandler', 'Vidal Blanc', 'Palomino',\n",
       "       'Nascetta', 'Siria', 'Feteascǎ Regalǎ', 'Tocai Friulano',\n",
       "       'Chardonnay-Semillon', 'Seyval Blanc', 'Tokaji', 'Welschriesling',\n",
       "       'Moscadello', 'Symphony', 'Edelzwicker', 'Cercial',\n",
       "       'Roter Veltliner', 'Passerina', 'Arneis', 'Kangoun', 'Loureiro',\n",
       "       'Sauvignon Gris', 'Gros and Petit Manseng', 'Jacquère',\n",
       "       'Zierfandler-Rotgipfler', 'Clairette', 'Chardonnay-Viognier',\n",
       "       'Mauzac', 'Chenin Blanc-Sauvignon Blanc', 'Diamond',\n",
       "       'Chardonnay-Sauvignon Blanc', 'Muscat Canelli', 'Neuburger',\n",
       "       'Auxerrois', 'Muskat Ottonel', 'Hárslevelü', 'Rkatsiteli',\n",
       "       'Trousseau Gris', 'Austrian white blend', 'Zibibbo',\n",
       "       'Gros Manseng', 'Muskateller', 'Aligoté', 'Muscat Blanc',\n",
       "       'Viognier-Roussanne', 'Pallagrello Bianco', 'Malvasia Istriana',\n",
       "       'Picpoul', 'Tempranillo-Tannat', 'Morillon', 'Tokay',\n",
       "       'Piquepoul Blanc', 'Chardonnay-Sauvignon', 'Roussanne-Viognier',\n",
       "       'Ugni Blanc-Colombard', 'Vitovska', 'Orange Muscat',\n",
       "       'Müller-Thurgau', 'Grauburgunder', 'Vignoles', 'Durella',\n",
       "       'Picolit', 'Godello', 'Debit', 'Verduzzo Friulano ', 'Treixadura',\n",
       "       'Chasselas', 'Coda di Volpe', 'Viura-Verdejo', 'Manzoni', 'Tocai',\n",
       "       \"Muscat d'Alexandrie\", 'Viognier-Gewürztraminer',\n",
       "       'Sauvignon Blanc-Chenin Blanc', 'Gros Plant', 'Sacy', 'Ugni Blanc',\n",
       "       'Tempranillo-Garnacha', 'Muscatel', 'Mantonico', 'Posip',\n",
       "       'Veltliner', 'Grecanico', 'Madeleine Angevine',\n",
       "       'Tempranillo Blanco', 'Pinot Gris-Gewürztraminer',\n",
       "       'White Riesling', 'Nuragus', 'Roussanne-Marsanne', 'Vilana',\n",
       "       'Narince', 'Doña Blanca', 'Thrapsathiri',\n",
       "       'Colombard-Sauvignon Blanc', 'Cococciola', 'Romorantin',\n",
       "       'Bombino Bianco', 'Verdejo-Sauvignon Blanc', 'Malvasia-Viura',\n",
       "       'Savatiano', 'Rivaner', 'Chinuri', 'Moscato Giallo', 'Timorasso',\n",
       "       'Nosiola', 'Códega do Larinho', 'Hondarrabi Zuri', 'Azal',\n",
       "       'Moscatel Graúdo', 'Viosinho', 'Paralleda', 'Malvasia di Candia',\n",
       "       'Malvar', 'Airen', 'Johannisberg Riesling', 'Erbaluce',\n",
       "       'Muscat of Alexandria', 'Chenin Blanc-Viognier', 'Grechetto',\n",
       "       'Vespaiolo', 'Aidani', 'Greco Bianco', 'Moscatel de Alejandría',\n",
       "       'White Port', 'Rolle', 'Malvasia Nera', 'Orangetraube',\n",
       "       'Maria Gomes-Bical', 'Altesse', 'Jacquez', 'Gouveio', 'Elbling',\n",
       "       'Schwartzriesling', 'Chardonnay Weissburgunder', 'Malagouzia',\n",
       "       'Sämling', 'Folle Blanche', 'Tamianka', 'Bual',\n",
       "       'Colombard-Ugni Blanc', 'Rabigato', 'Sauvignonasse',\n",
       "       'Viognier-Marsanne', 'Meseguera', 'Garnacha-Tempranillo',\n",
       "       'Xinisteri', 'Trebbiano di Lugana', 'Verdeca',\n",
       "       'Trebbiano Spoletino', 'Silvaner-Traminer',\n",
       "       'Merseguera-Sauvignon Blanc', 'Gelber Traminer', 'Cayuga',\n",
       "       'Sauvignon Blanc-Assyrtiko', 'Morio Muskat', 'Biancale',\n",
       "       'Ansonica', 'Roviello', 'Nasco', 'Mtsvane', 'Apple', 'Feteasca',\n",
       "       'Sercial', 'Pignoletto', 'Malvasia Fina', 'Roditis-Moschofilero',\n",
       "       'Jampal', 'Robola', 'Picapoll', 'Tinta Madeira', 'Catalanesca',\n",
       "       'Zlahtina', 'Chardonnay-Albariño', 'Favorita', 'Petit Courbu',\n",
       "       'Torontel', 'Caprettone', 'Athiri'], dtype=object)"
      ]
     },
     "execution_count": 13,
     "metadata": {},
     "output_type": "execute_result"
    }
   ],
   "source": [
    "df_cleaning_white.loc[df_cleaning_white['variety'].str.contains('-Chardonnay', case=False), 'variety generic'] = 'Chardonnay'\n",
    "print(df_cleaning_white['variety generic'].nunique())\n",
    "df_cleaning_white['variety generic'].unique()"
   ]
  },
  {
   "cell_type": "code",
   "execution_count": 17,
   "metadata": {},
   "outputs": [],
   "source": [
    "other = ['Gewürztraminer', 'Inzolia', 'Grillo', 'Petit Manseng', 'Vernaccia', 'Viognier',\n",
    "       'Vermentino', 'Verdejo', 'Furmint', 'Grüner Veltliner', 'Muscat', 'Muscadelle',\n",
    "       'Tempranillo', 'Cortese', 'Vidal', 'Verdelho', 'Moscato',\n",
    "       'Marsanne', 'Scheurebe', 'Kerner', 'Glera', 'Garganega', 'Viura',\n",
    "       'Torrontés', 'Antão Vaz', 'Verduzzo', 'Verdicchio', 'Silvaner',\n",
    "       'Carricante', 'Sylvaner', 'Fiano', 'Roussanne', 'Avesso',\n",
    "       'Muscat Blanc à Petits Grains', 'Greco', 'Trebbiano', 'Insolia',\n",
    "       'Weissburgunder', 'Prié Blanc', 'Falanghina',\n",
    "       'Pansa Blanca', 'Bical', 'Moscatel', 'Malvasia Bianca',\n",
    "       'Gelber Muskateller', 'Turbiana', 'Malagousia', 'Assyrtiko',\n",
    "       'Rieslaner', 'Traminette', 'Cerceal', 'Fernão Pires', 'Arinto',\n",
    "       'Pecorino', 'Albanello', 'Friulano', 'Meritage', 'Blanc du Bois',\n",
    "       'Colombard', 'Assyrtico', 'Albana',\n",
    "       'Muskat', 'Moschofilero', 'Fumé Blanc', 'Encruzado', 'Torbato',\n",
    "       'Pallagrello', 'Catarratto', 'Rotgipfler',\n",
    "       'Malvasia', 'Kisi', 'Ribolla Gialla', 'Vidal Blanc',\n",
    "       'Palomino', 'Nascetta', 'Siria', 'Feteascǎ Regalǎ',\n",
    "       'Tocai Friulano', 'Seyval Blanc', 'Tokaji', 'Welschriesling',\n",
    "       'Moscadello', 'Symphony', 'Cercial', 'Roter Veltliner',\n",
    "       'Passerina', 'Arneis', 'Kangoun', 'Loureiro',\n",
    "       'Gros and Petit Manseng', 'Jacquère', 'Clairette', 'Mauzac',\n",
    "       'Diamond', 'Muscat Canelli', 'Neuburger', 'Auxerrois',\n",
    "       'Muskat Ottonel', 'Hárslevelü', 'Rkatsiteli', 'Trousseau Gris', 'Zibibbo', 'Gros Manseng', 'Muskateller',\n",
    "       'Aligoté', 'Muscat Blanc', 'Pallagrello Bianco',\n",
    "       'Malvasia Istriana', 'Picpoul', 'Morillon', 'Tokay',\n",
    "       'Piquepoul Blanc', 'Vitovska', 'Orange Muscat', 'Grauburgunder',\n",
    "       'Vignoles', 'Durella', 'Picolit', 'Godello', 'Debit',\n",
    "       'Verduzzo Friulano ', 'Treixadura', 'Chasselas', 'Coda di Volpe',\n",
    "       'Manzoni', 'Tocai', \"Muscat d'Alexandrie\", 'Gros Plant', 'Sacy',\n",
    "       'Ugni Blanc', 'Muscatel', 'Mantonico', 'Posip', 'Veltliner',\n",
    "       'Grecanico', 'Madeleine Angevine', 'Tempranillo Blanco', 'Nuragus', 'Vilana', 'Narince', 'Doña Blanca',\n",
    "       'Thrapsathiri', 'Cococciola', 'Romorantin', 'Bombino Bianco',\n",
    "       'Savatiano', 'Rivaner', 'Chinuri', 'Moscato Giallo', 'Timorasso',\n",
    "       'Nosiola', 'Códega do Larinho', 'Hondarrabi Zuri', 'Azal',\n",
    "       'Moscatel Graúdo', 'Viosinho', 'Paralleda', 'Malvasia di Candia',\n",
    "       'Malvar', 'Airen', 'Erbaluce',\n",
    "       'Muscat of Alexandria', 'Grechetto', 'Vespaiolo', 'Aidani',\n",
    "       'Greco Bianco', 'Moscatel de Alejandría', 'Rolle',\n",
    "       'Malvasia Nera', 'Orangetraube', 'Altesse', 'Jacquez', 'Gouveio',\n",
    "       'Elbling', 'Schwartzriesling',\n",
    "       'Malagouzia', 'Sämling', 'Folle Blanche', 'Tamianka', 'Bual',\n",
    "       'Rabigato', 'Sauvignonasse', 'Meseguera', 'Xinisteri',\n",
    "       'Trebbiano di Lugana', 'Verdeca', 'Trebbiano Spoletino',\n",
    "       'Gelber Traminer', 'Cayuga', 'Morio Muskat', 'Biancale',\n",
    "       'Ansonica', 'Roviello', 'Nasco', 'Mtsvane', 'Apple', 'Feteasca',\n",
    "       'Sercial', 'Pignoletto', 'Malvasia Fina', 'Jampal', 'Robola',\n",
    "       'Picapoll', 'Tinta Madeira', 'Catalanesca', 'Zlahtina', 'Favorita',\n",
    "       'Petit Courbu', 'Torontel', 'Caprettone', 'Athiri']"
   ]
  },
  {
   "cell_type": "code",
   "execution_count": 18,
   "metadata": {},
   "outputs": [
    {
     "name": "stdout",
     "output_type": "stream",
     "text": [
      "23\n"
     ]
    },
    {
     "data": {
      "text/plain": [
       "array(['Riesling', 'Other', 'White Blend', 'White_Blend', 'Chardonnay',\n",
       "       'Champagne Blend', 'Sauvignon Blanc', 'Alsace white blend',\n",
       "       'Portuguese White', 'Chenin Blanc', 'Savagnin', 'Sparkling Blend',\n",
       "       'Melon', 'Sherry', 'Albariño', 'Provence white blend',\n",
       "       'Garnacha Blanca', 'Zierfandler', 'Sauvignon Gris',\n",
       "       'Austrian white blend', 'White Riesling', 'Johannisberg Riesling',\n",
       "       'White Port'], dtype=object)"
      ]
     },
     "execution_count": 18,
     "metadata": {},
     "output_type": "execute_result"
    }
   ],
   "source": [
    "df_cleaning_white['variety generic'] = list(map(lambda x : 'Other' if any(item in x for item in other) else x, df_cleaning_white['variety generic']))\n",
    "print(df_cleaning_white['variety generic'].nunique())\n",
    "df_cleaning_white['variety generic'].unique()"
   ]
  },
  {
   "cell_type": "code",
   "execution_count": 25,
   "metadata": {},
   "outputs": [
    {
     "name": "stdout",
     "output_type": "stream",
     "text": [
      "22\n"
     ]
    },
    {
     "data": {
      "text/plain": [
       "array(['Riesling', 'Other', 'White Blend', 'White_Blend', 'Chardonnay',\n",
       "       'Champagne Blend', 'Sauvignon Blanc', 'Alsace white blend',\n",
       "       'Portuguese White', 'Chenin Blanc', 'Savagnin', 'Sparkling Blend',\n",
       "       'Melon', 'Sherry', 'Albariño', 'Provence white blend',\n",
       "       'Garnacha Blanca', 'Zierfandler', 'Sauvignon Gris',\n",
       "       'Austrian white blend', 'Johannisberg Riesling', 'White Port'],\n",
       "      dtype=object)"
      ]
     },
     "execution_count": 25,
     "metadata": {},
     "output_type": "execute_result"
    }
   ],
   "source": [
    "df_cleaning_white.loc[df_cleaning_white['variety generic'].str.contains('White Riesling', case=False), 'variety generic'] = 'Riesling'\n",
    "print(df_cleaning_white['variety generic'].nunique())\n",
    "df_cleaning_white['variety generic'].unique()\n"
   ]
  },
  {
   "cell_type": "code",
   "execution_count": 26,
   "metadata": {},
   "outputs": [
    {
     "name": "stdout",
     "output_type": "stream",
     "text": [
      "21\n"
     ]
    },
    {
     "data": {
      "text/plain": [
       "array(['Riesling', 'Other', 'White Blend', 'Chardonnay',\n",
       "       'Champagne Blend', 'Sauvignon Blanc', 'Alsace white blend',\n",
       "       'Portuguese White', 'Chenin Blanc', 'Savagnin', 'Sparkling Blend',\n",
       "       'Melon', 'Sherry', 'Albariño', 'Provence white blend',\n",
       "       'Garnacha Blanca', 'Zierfandler', 'Sauvignon Gris',\n",
       "       'Austrian white blend', 'Johannisberg Riesling', 'White Port'],\n",
       "      dtype=object)"
      ]
     },
     "execution_count": 26,
     "metadata": {},
     "output_type": "execute_result"
    }
   ],
   "source": [
    "\n",
    "\n",
    "df_cleaning_white.loc[df_cleaning_white['variety generic'].str.contains('White_Blend', case=False), 'variety generic'] = 'White Blend'\n",
    "print(df_cleaning_white['variety generic'].nunique())\n",
    "df_cleaning_white['variety generic'].unique()"
   ]
  },
  {
   "cell_type": "code",
   "execution_count": null,
   "metadata": {},
   "outputs": [],
   "source": []
  },
  {
   "cell_type": "code",
   "execution_count": null,
   "metadata": {},
   "outputs": [],
   "source": []
  },
  {
   "cell_type": "code",
   "execution_count": null,
   "metadata": {},
   "outputs": [],
   "source": []
  },
  {
   "cell_type": "code",
   "execution_count": null,
   "metadata": {},
   "outputs": [],
   "source": []
  },
  {
   "cell_type": "code",
   "execution_count": null,
   "metadata": {},
   "outputs": [],
   "source": []
  }
 ],
 "metadata": {
  "colab": {
   "collapsed_sections": [],
   "name": " cleaning wine data.ipynb",
   "provenance": [
    {
     "file_id": "1Qg1qLYQLwms-lMFc4snk5SHEFtEdLHPp",
     "timestamp": 1569456079341
    }
   ]
  },
  "kernelspec": {
   "display_name": "Python 3",
   "language": "python",
   "name": "python3"
  },
  "language_info": {
   "codemirror_mode": {
    "name": "ipython",
    "version": 3
   },
   "file_extension": ".py",
   "mimetype": "text/x-python",
   "name": "python",
   "nbconvert_exporter": "python",
   "pygments_lexer": "ipython3",
   "version": "3.7.3"
  }
 },
 "nbformat": 4,
 "nbformat_minor": 1
}
