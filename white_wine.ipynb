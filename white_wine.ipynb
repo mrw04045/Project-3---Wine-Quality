{
 "cells": [
  {
   "cell_type": "code",
   "execution_count": 1,
   "metadata": {
    "colab": {},
    "colab_type": "code",
    "id": "YkIuA_mPlasF"
   },
   "outputs": [],
   "source": [
    "# Import Dependencies\n",
    "import pandas as pd\n",
    "import numpy as np"
   ]
  },
  {
   "cell_type": "code",
   "execution_count": 2,
   "metadata": {
    "colab": {
     "base_uri": "https://localhost:8080/",
     "height": 34
    },
    "colab_type": "code",
    "executionInfo": {
     "elapsed": 881,
     "status": "ok",
     "timestamp": 1569288865162,
     "user": {
      "displayName": "Michelle Williams",
      "photoUrl": "",
      "userId": "03015297040919770327"
     },
     "user_tz": 300
    },
    "id": "GvBLs7V7vkrl",
    "outputId": "d901c3cb-dfda-41ac-9992-61f60ce84a5f"
   },
   "outputs": [],
   "source": [
    "# from google.colab import drive\n",
    "# drive.mount('/content/drive')"
   ]
  },
  {
   "cell_type": "code",
   "execution_count": 3,
   "metadata": {
    "colab": {
     "base_uri": "https://localhost:8080/",
     "height": 34
    },
    "colab_type": "code",
    "executionInfo": {
     "elapsed": 864,
     "status": "ok",
     "timestamp": 1569288865162,
     "user": {
      "displayName": "Michelle Williams",
      "photoUrl": "",
      "userId": "03015297040919770327"
     },
     "user_tz": 300
    },
    "id": "TmhqZ1aOyGYj",
    "outputId": "14c31000-f010-49a4-f8df-fa11016357a8"
   },
   "outputs": [],
   "source": [
    "# cd drive/My\\ Drive/Project\\ 3\\ -\\ Wine\\ Quality"
   ]
  },
  {
   "cell_type": "code",
   "execution_count": 4,
   "metadata": {
    "colab": {
     "base_uri": "https://localhost:8080/",
     "height": 241
    },
    "colab_type": "code",
    "executionInfo": {
     "elapsed": 944,
     "status": "ok",
     "timestamp": 1569291032430,
     "user": {
      "displayName": "Michelle Williams",
      "photoUrl": "",
      "userId": "03015297040919770327"
     },
     "user_tz": 300
    },
    "id": "aLOKBRmUtk0I",
    "outputId": "b9def93f-9acf-43ba-d476-f2e1d22e7471"
   },
   "outputs": [
    {
     "data": {
      "text/html": [
       "<div>\n",
       "<style scoped>\n",
       "    .dataframe tbody tr th:only-of-type {\n",
       "        vertical-align: middle;\n",
       "    }\n",
       "\n",
       "    .dataframe tbody tr th {\n",
       "        vertical-align: top;\n",
       "    }\n",
       "\n",
       "    .dataframe thead th {\n",
       "        text-align: right;\n",
       "    }\n",
       "</style>\n",
       "<table border=\"1\" class=\"dataframe\">\n",
       "  <thead>\n",
       "    <tr style=\"text-align: right;\">\n",
       "      <th></th>\n",
       "      <th>Unnamed: 0</th>\n",
       "      <th>fixed.acidity</th>\n",
       "      <th>volatile.acidity</th>\n",
       "      <th>citric.acid</th>\n",
       "      <th>residual.sugar</th>\n",
       "      <th>chlorides</th>\n",
       "      <th>free.sulfur.dioxide</th>\n",
       "      <th>total.sulfur.dioxide</th>\n",
       "      <th>density</th>\n",
       "      <th>pH</th>\n",
       "      <th>sulphates</th>\n",
       "      <th>alcohol</th>\n",
       "      <th>quality</th>\n",
       "    </tr>\n",
       "  </thead>\n",
       "  <tbody>\n",
       "    <tr>\n",
       "      <th>0</th>\n",
       "      <td>1</td>\n",
       "      <td>7.0</td>\n",
       "      <td>0.27</td>\n",
       "      <td>0.36</td>\n",
       "      <td>20.7</td>\n",
       "      <td>0.045</td>\n",
       "      <td>45.0</td>\n",
       "      <td>170.0</td>\n",
       "      <td>1.0010</td>\n",
       "      <td>3.00</td>\n",
       "      <td>0.45</td>\n",
       "      <td>8.8</td>\n",
       "      <td>6</td>\n",
       "    </tr>\n",
       "    <tr>\n",
       "      <th>1</th>\n",
       "      <td>2</td>\n",
       "      <td>6.3</td>\n",
       "      <td>0.30</td>\n",
       "      <td>0.34</td>\n",
       "      <td>1.6</td>\n",
       "      <td>0.049</td>\n",
       "      <td>14.0</td>\n",
       "      <td>132.0</td>\n",
       "      <td>0.9940</td>\n",
       "      <td>3.30</td>\n",
       "      <td>0.49</td>\n",
       "      <td>9.5</td>\n",
       "      <td>6</td>\n",
       "    </tr>\n",
       "    <tr>\n",
       "      <th>2</th>\n",
       "      <td>3</td>\n",
       "      <td>8.1</td>\n",
       "      <td>0.28</td>\n",
       "      <td>0.40</td>\n",
       "      <td>6.9</td>\n",
       "      <td>0.050</td>\n",
       "      <td>30.0</td>\n",
       "      <td>97.0</td>\n",
       "      <td>0.9951</td>\n",
       "      <td>3.26</td>\n",
       "      <td>0.44</td>\n",
       "      <td>10.1</td>\n",
       "      <td>6</td>\n",
       "    </tr>\n",
       "    <tr>\n",
       "      <th>3</th>\n",
       "      <td>4</td>\n",
       "      <td>7.2</td>\n",
       "      <td>0.23</td>\n",
       "      <td>0.32</td>\n",
       "      <td>8.5</td>\n",
       "      <td>0.058</td>\n",
       "      <td>47.0</td>\n",
       "      <td>186.0</td>\n",
       "      <td>0.9956</td>\n",
       "      <td>3.19</td>\n",
       "      <td>0.40</td>\n",
       "      <td>9.9</td>\n",
       "      <td>6</td>\n",
       "    </tr>\n",
       "    <tr>\n",
       "      <th>4</th>\n",
       "      <td>5</td>\n",
       "      <td>7.2</td>\n",
       "      <td>0.23</td>\n",
       "      <td>0.32</td>\n",
       "      <td>8.5</td>\n",
       "      <td>0.058</td>\n",
       "      <td>47.0</td>\n",
       "      <td>186.0</td>\n",
       "      <td>0.9956</td>\n",
       "      <td>3.19</td>\n",
       "      <td>0.40</td>\n",
       "      <td>9.9</td>\n",
       "      <td>6</td>\n",
       "    </tr>\n",
       "  </tbody>\n",
       "</table>\n",
       "</div>"
      ],
      "text/plain": [
       "   Unnamed: 0  fixed.acidity  volatile.acidity  citric.acid  residual.sugar  \\\n",
       "0           1            7.0              0.27         0.36            20.7   \n",
       "1           2            6.3              0.30         0.34             1.6   \n",
       "2           3            8.1              0.28         0.40             6.9   \n",
       "3           4            7.2              0.23         0.32             8.5   \n",
       "4           5            7.2              0.23         0.32             8.5   \n",
       "\n",
       "   chlorides  free.sulfur.dioxide  total.sulfur.dioxide  density    pH  \\\n",
       "0      0.045                 45.0                 170.0   1.0010  3.00   \n",
       "1      0.049                 14.0                 132.0   0.9940  3.30   \n",
       "2      0.050                 30.0                  97.0   0.9951  3.26   \n",
       "3      0.058                 47.0                 186.0   0.9956  3.19   \n",
       "4      0.058                 47.0                 186.0   0.9956  3.19   \n",
       "\n",
       "   sulphates  alcohol  quality  \n",
       "0       0.45      8.8        6  \n",
       "1       0.49      9.5        6  \n",
       "2       0.44     10.1        6  \n",
       "3       0.40      9.9        6  \n",
       "4       0.40      9.9        6  "
      ]
     },
     "execution_count": 4,
     "metadata": {},
     "output_type": "execute_result"
    }
   ],
   "source": [
    "# Import White Wine Data\n",
    "white_wine_data = pd.read_csv('data/wineQualityWhites.csv')\n",
    "white_wine_data.head()"
   ]
  },
  {
   "cell_type": "code",
   "execution_count": 5,
   "metadata": {
    "colab": {
     "base_uri": "https://localhost:8080/",
     "height": 34
    },
    "colab_type": "code",
    "executionInfo": {
     "elapsed": 890,
     "status": "ok",
     "timestamp": 1569291033613,
     "user": {
      "displayName": "Michelle Williams",
      "photoUrl": "",
      "userId": "03015297040919770327"
     },
     "user_tz": 300
    },
    "id": "wF0J_5PZM9QA",
    "outputId": "df38814d-96bd-44ef-90e4-779d5bea04de"
   },
   "outputs": [
    {
     "data": {
      "text/plain": [
       "4898"
      ]
     },
     "execution_count": 5,
     "metadata": {},
     "output_type": "execute_result"
    }
   ],
   "source": [
    "len(white_wine_data)"
   ]
  },
  {
   "cell_type": "code",
   "execution_count": 6,
   "metadata": {
    "colab": {
     "base_uri": "https://localhost:8080/",
     "height": 102
    },
    "colab_type": "code",
    "executionInfo": {
     "elapsed": 301,
     "status": "ok",
     "timestamp": 1569291033774,
     "user": {
      "displayName": "Michelle Williams",
      "photoUrl": "",
      "userId": "03015297040919770327"
     },
     "user_tz": 300
    },
    "id": "kNUKIdLnCCIF",
    "outputId": "404dc708-3a15-46b2-f6cb-315d4a069b47"
   },
   "outputs": [
    {
     "data": {
      "text/plain": [
       "Index(['Unnamed: 0', 'fixed.acidity', 'volatile.acidity', 'citric.acid',\n",
       "       'residual.sugar', 'chlorides', 'free.sulfur.dioxide',\n",
       "       'total.sulfur.dioxide', 'density', 'pH', 'sulphates', 'alcohol',\n",
       "       'quality'],\n",
       "      dtype='object')"
      ]
     },
     "execution_count": 6,
     "metadata": {},
     "output_type": "execute_result"
    }
   ],
   "source": [
    "white_wine_data.columns"
   ]
  },
  {
   "cell_type": "code",
   "execution_count": 7,
   "metadata": {
    "colab": {
     "base_uri": "https://localhost:8080/",
     "height": 34
    },
    "colab_type": "code",
    "executionInfo": {
     "elapsed": 354,
     "status": "ok",
     "timestamp": 1569291034785,
     "user": {
      "displayName": "Michelle Williams",
      "photoUrl": "",
      "userId": "03015297040919770327"
     },
     "user_tz": 300
    },
    "id": "-4_SItFCuMpZ",
    "outputId": "d33f5e9b-a326-4260-d45c-c870367ab0de"
   },
   "outputs": [
    {
     "name": "stdout",
     "output_type": "stream",
     "text": [
      "(4898, 11) (4898,)\n"
     ]
    }
   ],
   "source": [
    "# Assign the data to X and y\n",
    "\n",
    "X = white_wine_data[['fixed.acidity', 'volatile.acidity', 'citric.acid',\n",
    "       'residual.sugar', 'chlorides', 'free.sulfur.dioxide',\n",
    "       'total.sulfur.dioxide', 'density', 'pH', 'sulphates', 'alcohol']]\n",
    "y = white_wine_data[\"quality\"]\n",
    "print(X.shape, y.shape)"
   ]
  },
  {
   "cell_type": "code",
   "execution_count": 8,
   "metadata": {
    "colab": {},
    "colab_type": "code",
    "id": "slvLHj76CnLg"
   },
   "outputs": [],
   "source": [
    "# Use train_test_split to create training and testing data\n",
    "from sklearn.model_selection import train_test_split\n",
    "\n",
    "X_train, X_test, y_train, y_test = train_test_split(X, y, random_state=42)"
   ]
  },
  {
   "cell_type": "code",
   "execution_count": 9,
   "metadata": {
    "colab": {},
    "colab_type": "code",
    "id": "ikmmz16xDgLY"
   },
   "outputs": [],
   "source": [
    "# Create the model using LinearRegression\n",
    "from sklearn.linear_model import LinearRegression\n",
    "\n",
    "model = LinearRegression()"
   ]
  },
  {
   "cell_type": "code",
   "execution_count": 10,
   "metadata": {
    "colab": {
     "base_uri": "https://localhost:8080/",
     "height": 51
    },
    "colab_type": "code",
    "executionInfo": {
     "elapsed": 584,
     "status": "ok",
     "timestamp": 1569291037622,
     "user": {
      "displayName": "Michelle Williams",
      "photoUrl": "",
      "userId": "03015297040919770327"
     },
     "user_tz": 300
    },
    "id": "6GMflqCnDiq6",
    "outputId": "a6940c9d-30d4-4a8a-ef3e-05433733828c"
   },
   "outputs": [
    {
     "name": "stdout",
     "output_type": "stream",
     "text": [
      "Training Score: 0.2828919982151695\n",
      "Testing Score: 0.2727562934675569\n"
     ]
    }
   ],
   "source": [
    "# Fit the model to the training data and calculate the scores for the training and testing data\n",
    "model.fit(X_train, y_train)\n",
    "\n",
    "training_score = model.score(X_train, y_train)\n",
    "testing_score = model.score(X_test, y_test)\n",
    "\n",
    "print(f\"Training Score: {training_score}\")\n",
    "print(f\"Testing Score: {testing_score}\")"
   ]
  },
  {
   "cell_type": "markdown",
   "metadata": {
    "colab_type": "text",
    "id": "b26JfFM9Dyl8"
   },
   "source": [
    "# Based on all attribute variables, this model is horrible. Next approach is looking at P-values to remove variables that have no impact on quality."
   ]
  },
  {
   "cell_type": "code",
   "execution_count": 11,
   "metadata": {
    "colab": {},
    "colab_type": "code",
    "id": "8TqCqX11KS0a"
   },
   "outputs": [],
   "source": [
    "# Build better model using Background Elimination\n",
    "import statsmodels.api as sm\n",
    "import statsmodels.formula.api as smf\n",
    "\n",
    "# Adding a column of ones at beginning of dataframe\n",
    "X = np.append(arr = np.ones((len(white_wine_data), 1)).astype(int), values = X, axis = 1)"
   ]
  },
  {
   "cell_type": "code",
   "execution_count": 12,
   "metadata": {
    "colab": {
     "base_uri": "https://localhost:8080/",
     "height": 688
    },
    "colab_type": "code",
    "executionInfo": {
     "elapsed": 2962,
     "status": "ok",
     "timestamp": 1569288867408,
     "user": {
      "displayName": "Michelle Williams",
      "photoUrl": "",
      "userId": "03015297040919770327"
     },
     "user_tz": 300
    },
    "id": "xHgHA0vmOEWv",
    "outputId": "98baa46b-63cd-44e3-e649-58a7407f5043"
   },
   "outputs": [
    {
     "data": {
      "text/html": [
       "<table class=\"simpletable\">\n",
       "<caption>OLS Regression Results</caption>\n",
       "<tr>\n",
       "  <th>Dep. Variable:</th>         <td>quality</td>     <th>  R-squared:         </th> <td>   0.282</td> \n",
       "</tr>\n",
       "<tr>\n",
       "  <th>Model:</th>                   <td>OLS</td>       <th>  Adj. R-squared:    </th> <td>   0.280</td> \n",
       "</tr>\n",
       "<tr>\n",
       "  <th>Method:</th>             <td>Least Squares</td>  <th>  F-statistic:       </th> <td>   174.3</td> \n",
       "</tr>\n",
       "<tr>\n",
       "  <th>Date:</th>             <td>Mon, 30 Sep 2019</td> <th>  Prob (F-statistic):</th>  <td>  0.00</td>  \n",
       "</tr>\n",
       "<tr>\n",
       "  <th>Time:</th>                 <td>21:12:56</td>     <th>  Log-Likelihood:    </th> <td> -5543.7</td> \n",
       "</tr>\n",
       "<tr>\n",
       "  <th>No. Observations:</th>      <td>  4898</td>      <th>  AIC:               </th> <td>1.111e+04</td>\n",
       "</tr>\n",
       "<tr>\n",
       "  <th>Df Residuals:</th>          <td>  4886</td>      <th>  BIC:               </th> <td>1.119e+04</td>\n",
       "</tr>\n",
       "<tr>\n",
       "  <th>Df Model:</th>              <td>    11</td>      <th>                     </th>     <td> </td>    \n",
       "</tr>\n",
       "<tr>\n",
       "  <th>Covariance Type:</th>      <td>nonrobust</td>    <th>                     </th>     <td> </td>    \n",
       "</tr>\n",
       "</table>\n",
       "<table class=\"simpletable\">\n",
       "<tr>\n",
       "    <td></td>       <th>coef</th>     <th>std err</th>      <th>t</th>      <th>P>|t|</th>  <th>[0.025</th>    <th>0.975]</th>  \n",
       "</tr>\n",
       "<tr>\n",
       "  <th>const</th> <td>  150.1928</td> <td>   18.804</td> <td>    7.987</td> <td> 0.000</td> <td>  113.328</td> <td>  187.057</td>\n",
       "</tr>\n",
       "<tr>\n",
       "  <th>x1</th>    <td>    0.0655</td> <td>    0.021</td> <td>    3.139</td> <td> 0.002</td> <td>    0.025</td> <td>    0.106</td>\n",
       "</tr>\n",
       "<tr>\n",
       "  <th>x2</th>    <td>   -1.8632</td> <td>    0.114</td> <td>  -16.373</td> <td> 0.000</td> <td>   -2.086</td> <td>   -1.640</td>\n",
       "</tr>\n",
       "<tr>\n",
       "  <th>x3</th>    <td>    0.0221</td> <td>    0.096</td> <td>    0.231</td> <td> 0.818</td> <td>   -0.166</td> <td>    0.210</td>\n",
       "</tr>\n",
       "<tr>\n",
       "  <th>x4</th>    <td>    0.0815</td> <td>    0.008</td> <td>   10.825</td> <td> 0.000</td> <td>    0.067</td> <td>    0.096</td>\n",
       "</tr>\n",
       "<tr>\n",
       "  <th>x5</th>    <td>   -0.2473</td> <td>    0.547</td> <td>   -0.452</td> <td> 0.651</td> <td>   -1.319</td> <td>    0.824</td>\n",
       "</tr>\n",
       "<tr>\n",
       "  <th>x6</th>    <td>    0.0037</td> <td>    0.001</td> <td>    4.422</td> <td> 0.000</td> <td>    0.002</td> <td>    0.005</td>\n",
       "</tr>\n",
       "<tr>\n",
       "  <th>x7</th>    <td>   -0.0003</td> <td>    0.000</td> <td>   -0.756</td> <td> 0.450</td> <td>   -0.001</td> <td>    0.000</td>\n",
       "</tr>\n",
       "<tr>\n",
       "  <th>x8</th>    <td> -150.2842</td> <td>   19.075</td> <td>   -7.879</td> <td> 0.000</td> <td> -187.679</td> <td> -112.890</td>\n",
       "</tr>\n",
       "<tr>\n",
       "  <th>x9</th>    <td>    0.6863</td> <td>    0.105</td> <td>    6.513</td> <td> 0.000</td> <td>    0.480</td> <td>    0.893</td>\n",
       "</tr>\n",
       "<tr>\n",
       "  <th>x10</th>   <td>    0.6315</td> <td>    0.100</td> <td>    6.291</td> <td> 0.000</td> <td>    0.435</td> <td>    0.828</td>\n",
       "</tr>\n",
       "<tr>\n",
       "  <th>x11</th>   <td>    0.1935</td> <td>    0.024</td> <td>    7.988</td> <td> 0.000</td> <td>    0.146</td> <td>    0.241</td>\n",
       "</tr>\n",
       "</table>\n",
       "<table class=\"simpletable\">\n",
       "<tr>\n",
       "  <th>Omnibus:</th>       <td>114.161</td> <th>  Durbin-Watson:     </th> <td>   1.621</td>\n",
       "</tr>\n",
       "<tr>\n",
       "  <th>Prob(Omnibus):</th> <td> 0.000</td>  <th>  Jarque-Bera (JB):  </th> <td> 251.637</td>\n",
       "</tr>\n",
       "<tr>\n",
       "  <th>Skew:</th>          <td> 0.073</td>  <th>  Prob(JB):          </th> <td>2.28e-55</td>\n",
       "</tr>\n",
       "<tr>\n",
       "  <th>Kurtosis:</th>      <td> 4.101</td>  <th>  Cond. No.          </th> <td>3.74e+05</td>\n",
       "</tr>\n",
       "</table><br/><br/>Warnings:<br/>[1] Standard Errors assume that the covariance matrix of the errors is correctly specified.<br/>[2] The condition number is large, 3.74e+05. This might indicate that there are<br/>strong multicollinearity or other numerical problems."
      ],
      "text/plain": [
       "<class 'statsmodels.iolib.summary.Summary'>\n",
       "\"\"\"\n",
       "                            OLS Regression Results                            \n",
       "==============================================================================\n",
       "Dep. Variable:                quality   R-squared:                       0.282\n",
       "Model:                            OLS   Adj. R-squared:                  0.280\n",
       "Method:                 Least Squares   F-statistic:                     174.3\n",
       "Date:                Mon, 30 Sep 2019   Prob (F-statistic):               0.00\n",
       "Time:                        21:12:56   Log-Likelihood:                -5543.7\n",
       "No. Observations:                4898   AIC:                         1.111e+04\n",
       "Df Residuals:                    4886   BIC:                         1.119e+04\n",
       "Df Model:                          11                                         \n",
       "Covariance Type:            nonrobust                                         \n",
       "==============================================================================\n",
       "                 coef    std err          t      P>|t|      [0.025      0.975]\n",
       "------------------------------------------------------------------------------\n",
       "const        150.1928     18.804      7.987      0.000     113.328     187.057\n",
       "x1             0.0655      0.021      3.139      0.002       0.025       0.106\n",
       "x2            -1.8632      0.114    -16.373      0.000      -2.086      -1.640\n",
       "x3             0.0221      0.096      0.231      0.818      -0.166       0.210\n",
       "x4             0.0815      0.008     10.825      0.000       0.067       0.096\n",
       "x5            -0.2473      0.547     -0.452      0.651      -1.319       0.824\n",
       "x6             0.0037      0.001      4.422      0.000       0.002       0.005\n",
       "x7            -0.0003      0.000     -0.756      0.450      -0.001       0.000\n",
       "x8          -150.2842     19.075     -7.879      0.000    -187.679    -112.890\n",
       "x9             0.6863      0.105      6.513      0.000       0.480       0.893\n",
       "x10            0.6315      0.100      6.291      0.000       0.435       0.828\n",
       "x11            0.1935      0.024      7.988      0.000       0.146       0.241\n",
       "==============================================================================\n",
       "Omnibus:                      114.161   Durbin-Watson:                   1.621\n",
       "Prob(Omnibus):                  0.000   Jarque-Bera (JB):              251.637\n",
       "Skew:                           0.073   Prob(JB):                     2.28e-55\n",
       "Kurtosis:                       4.101   Cond. No.                     3.74e+05\n",
       "==============================================================================\n",
       "\n",
       "Warnings:\n",
       "[1] Standard Errors assume that the covariance matrix of the errors is correctly specified.\n",
       "[2] The condition number is large, 3.74e+05. This might indicate that there are\n",
       "strong multicollinearity or other numerical problems.\n",
       "\"\"\""
      ]
     },
     "execution_count": 12,
     "metadata": {},
     "output_type": "execute_result"
    }
   ],
   "source": [
    "# Fit using all variables\n",
    "X_opt = X[:, [0,1,2,3,4,5,6,7,8,9,10,11]]\n",
    "regressor_OLS = sm.OLS(endog= y, exog = X_opt).fit()\n",
    "regressor_OLS.summary()\n",
    "# Need to remove 3 (citric.acid)"
   ]
  },
  {
   "cell_type": "code",
   "execution_count": 13,
   "metadata": {
    "colab": {
     "base_uri": "https://localhost:8080/",
     "height": 667
    },
    "colab_type": "code",
    "executionInfo": {
     "elapsed": 2948,
     "status": "ok",
     "timestamp": 1569288867409,
     "user": {
      "displayName": "Michelle Williams",
      "photoUrl": "",
      "userId": "03015297040919770327"
     },
     "user_tz": 300
    },
    "id": "kD9GpNJgOXAm",
    "outputId": "64a3ca87-ca8e-482c-83be-3c015d58ac7b"
   },
   "outputs": [
    {
     "data": {
      "text/html": [
       "<table class=\"simpletable\">\n",
       "<caption>OLS Regression Results</caption>\n",
       "<tr>\n",
       "  <th>Dep. Variable:</th>         <td>quality</td>     <th>  R-squared:         </th> <td>   0.282</td> \n",
       "</tr>\n",
       "<tr>\n",
       "  <th>Model:</th>                   <td>OLS</td>       <th>  Adj. R-squared:    </th> <td>   0.280</td> \n",
       "</tr>\n",
       "<tr>\n",
       "  <th>Method:</th>             <td>Least Squares</td>  <th>  F-statistic:       </th> <td>   191.8</td> \n",
       "</tr>\n",
       "<tr>\n",
       "  <th>Date:</th>             <td>Mon, 30 Sep 2019</td> <th>  Prob (F-statistic):</th>  <td>  0.00</td>  \n",
       "</tr>\n",
       "<tr>\n",
       "  <th>Time:</th>                 <td>21:12:56</td>     <th>  Log-Likelihood:    </th> <td> -5543.8</td> \n",
       "</tr>\n",
       "<tr>\n",
       "  <th>No. Observations:</th>      <td>  4898</td>      <th>  AIC:               </th> <td>1.111e+04</td>\n",
       "</tr>\n",
       "<tr>\n",
       "  <th>Df Residuals:</th>          <td>  4887</td>      <th>  BIC:               </th> <td>1.118e+04</td>\n",
       "</tr>\n",
       "<tr>\n",
       "  <th>Df Model:</th>              <td>    10</td>      <th>                     </th>     <td> </td>    \n",
       "</tr>\n",
       "<tr>\n",
       "  <th>Covariance Type:</th>      <td>nonrobust</td>    <th>                     </th>     <td> </td>    \n",
       "</tr>\n",
       "</table>\n",
       "<table class=\"simpletable\">\n",
       "<tr>\n",
       "    <td></td>       <th>coef</th>     <th>std err</th>      <th>t</th>      <th>P>|t|</th>  <th>[0.025</th>    <th>0.975]</th>  \n",
       "</tr>\n",
       "<tr>\n",
       "  <th>const</th> <td>  149.9012</td> <td>   18.760</td> <td>    7.991</td> <td> 0.000</td> <td>  113.124</td> <td>  186.679</td>\n",
       "</tr>\n",
       "<tr>\n",
       "  <th>x1</th>    <td>    0.0661</td> <td>    0.021</td> <td>    3.192</td> <td> 0.001</td> <td>    0.026</td> <td>    0.107</td>\n",
       "</tr>\n",
       "<tr>\n",
       "  <th>x2</th>    <td>   -1.8677</td> <td>    0.112</td> <td>  -16.668</td> <td> 0.000</td> <td>   -2.087</td> <td>   -1.648</td>\n",
       "</tr>\n",
       "<tr>\n",
       "  <th>x3</th>    <td>    0.0814</td> <td>    0.008</td> <td>   10.827</td> <td> 0.000</td> <td>    0.067</td> <td>    0.096</td>\n",
       "</tr>\n",
       "<tr>\n",
       "  <th>x4</th>    <td>   -0.2338</td> <td>    0.543</td> <td>   -0.430</td> <td> 0.667</td> <td>   -1.299</td> <td>    0.831</td>\n",
       "</tr>\n",
       "<tr>\n",
       "  <th>x5</th>    <td>    0.0037</td> <td>    0.001</td> <td>    4.434</td> <td> 0.000</td> <td>    0.002</td> <td>    0.005</td>\n",
       "</tr>\n",
       "<tr>\n",
       "  <th>x6</th>    <td>   -0.0003</td> <td>    0.000</td> <td>   -0.747</td> <td> 0.455</td> <td>   -0.001</td> <td>    0.000</td>\n",
       "</tr>\n",
       "<tr>\n",
       "  <th>x7</th>    <td> -149.9866</td> <td>   19.029</td> <td>   -7.882</td> <td> 0.000</td> <td> -187.292</td> <td> -112.681</td>\n",
       "</tr>\n",
       "<tr>\n",
       "  <th>x8</th>    <td>    0.6843</td> <td>    0.105</td> <td>    6.517</td> <td> 0.000</td> <td>    0.478</td> <td>    0.890</td>\n",
       "</tr>\n",
       "<tr>\n",
       "  <th>x9</th>    <td>    0.6324</td> <td>    0.100</td> <td>    6.306</td> <td> 0.000</td> <td>    0.436</td> <td>    0.829</td>\n",
       "</tr>\n",
       "<tr>\n",
       "  <th>x10</th>   <td>    0.1940</td> <td>    0.024</td> <td>    8.046</td> <td> 0.000</td> <td>    0.147</td> <td>    0.241</td>\n",
       "</tr>\n",
       "</table>\n",
       "<table class=\"simpletable\">\n",
       "<tr>\n",
       "  <th>Omnibus:</th>       <td>114.042</td> <th>  Durbin-Watson:     </th> <td>   1.621</td>\n",
       "</tr>\n",
       "<tr>\n",
       "  <th>Prob(Omnibus):</th> <td> 0.000</td>  <th>  Jarque-Bera (JB):  </th> <td> 251.382</td>\n",
       "</tr>\n",
       "<tr>\n",
       "  <th>Skew:</th>          <td> 0.072</td>  <th>  Prob(JB):          </th> <td>2.59e-55</td>\n",
       "</tr>\n",
       "<tr>\n",
       "  <th>Kurtosis:</th>      <td> 4.100</td>  <th>  Cond. No.          </th> <td>3.73e+05</td>\n",
       "</tr>\n",
       "</table><br/><br/>Warnings:<br/>[1] Standard Errors assume that the covariance matrix of the errors is correctly specified.<br/>[2] The condition number is large, 3.73e+05. This might indicate that there are<br/>strong multicollinearity or other numerical problems."
      ],
      "text/plain": [
       "<class 'statsmodels.iolib.summary.Summary'>\n",
       "\"\"\"\n",
       "                            OLS Regression Results                            \n",
       "==============================================================================\n",
       "Dep. Variable:                quality   R-squared:                       0.282\n",
       "Model:                            OLS   Adj. R-squared:                  0.280\n",
       "Method:                 Least Squares   F-statistic:                     191.8\n",
       "Date:                Mon, 30 Sep 2019   Prob (F-statistic):               0.00\n",
       "Time:                        21:12:56   Log-Likelihood:                -5543.8\n",
       "No. Observations:                4898   AIC:                         1.111e+04\n",
       "Df Residuals:                    4887   BIC:                         1.118e+04\n",
       "Df Model:                          10                                         \n",
       "Covariance Type:            nonrobust                                         \n",
       "==============================================================================\n",
       "                 coef    std err          t      P>|t|      [0.025      0.975]\n",
       "------------------------------------------------------------------------------\n",
       "const        149.9012     18.760      7.991      0.000     113.124     186.679\n",
       "x1             0.0661      0.021      3.192      0.001       0.026       0.107\n",
       "x2            -1.8677      0.112    -16.668      0.000      -2.087      -1.648\n",
       "x3             0.0814      0.008     10.827      0.000       0.067       0.096\n",
       "x4            -0.2338      0.543     -0.430      0.667      -1.299       0.831\n",
       "x5             0.0037      0.001      4.434      0.000       0.002       0.005\n",
       "x6            -0.0003      0.000     -0.747      0.455      -0.001       0.000\n",
       "x7          -149.9866     19.029     -7.882      0.000    -187.292    -112.681\n",
       "x8             0.6843      0.105      6.517      0.000       0.478       0.890\n",
       "x9             0.6324      0.100      6.306      0.000       0.436       0.829\n",
       "x10            0.1940      0.024      8.046      0.000       0.147       0.241\n",
       "==============================================================================\n",
       "Omnibus:                      114.042   Durbin-Watson:                   1.621\n",
       "Prob(Omnibus):                  0.000   Jarque-Bera (JB):              251.382\n",
       "Skew:                           0.072   Prob(JB):                     2.59e-55\n",
       "Kurtosis:                       4.100   Cond. No.                     3.73e+05\n",
       "==============================================================================\n",
       "\n",
       "Warnings:\n",
       "[1] Standard Errors assume that the covariance matrix of the errors is correctly specified.\n",
       "[2] The condition number is large, 3.73e+05. This might indicate that there are\n",
       "strong multicollinearity or other numerical problems.\n",
       "\"\"\""
      ]
     },
     "execution_count": 13,
     "metadata": {},
     "output_type": "execute_result"
    }
   ],
   "source": [
    "# Refit model after removing 3 (citric.acid) column\n",
    "X_opt = X[:, [0,1,2,4,5,6,7,8,9,10,11]]\n",
    "regressor_OLS = sm.OLS(endog= y, exog = X_opt).fit()\n",
    "regressor_OLS.summary()\n",
    "# Need to remove 5 (chlorides)"
   ]
  },
  {
   "cell_type": "code",
   "execution_count": 14,
   "metadata": {
    "colab": {
     "base_uri": "https://localhost:8080/",
     "height": 646
    },
    "colab_type": "code",
    "executionInfo": {
     "elapsed": 2934,
     "status": "ok",
     "timestamp": 1569288867410,
     "user": {
      "displayName": "Michelle Williams",
      "photoUrl": "",
      "userId": "03015297040919770327"
     },
     "user_tz": 300
    },
    "id": "UbSE_QG9pMVB",
    "outputId": "9a21ae7e-a4b9-4c59-c87c-413f9db5107d"
   },
   "outputs": [
    {
     "data": {
      "text/html": [
       "<table class=\"simpletable\">\n",
       "<caption>OLS Regression Results</caption>\n",
       "<tr>\n",
       "  <th>Dep. Variable:</th>         <td>quality</td>     <th>  R-squared:         </th> <td>   0.282</td> \n",
       "</tr>\n",
       "<tr>\n",
       "  <th>Model:</th>                   <td>OLS</td>       <th>  Adj. R-squared:    </th> <td>   0.281</td> \n",
       "</tr>\n",
       "<tr>\n",
       "  <th>Method:</th>             <td>Least Squares</td>  <th>  F-statistic:       </th> <td>   213.1</td> \n",
       "</tr>\n",
       "<tr>\n",
       "  <th>Date:</th>             <td>Mon, 30 Sep 2019</td> <th>  Prob (F-statistic):</th>  <td>  0.00</td>  \n",
       "</tr>\n",
       "<tr>\n",
       "  <th>Time:</th>                 <td>21:12:56</td>     <th>  Log-Likelihood:    </th> <td> -5543.9</td> \n",
       "</tr>\n",
       "<tr>\n",
       "  <th>No. Observations:</th>      <td>  4898</td>      <th>  AIC:               </th> <td>1.111e+04</td>\n",
       "</tr>\n",
       "<tr>\n",
       "  <th>Df Residuals:</th>          <td>  4888</td>      <th>  BIC:               </th> <td>1.117e+04</td>\n",
       "</tr>\n",
       "<tr>\n",
       "  <th>Df Model:</th>              <td>     9</td>      <th>                     </th>     <td> </td>    \n",
       "</tr>\n",
       "<tr>\n",
       "  <th>Covariance Type:</th>      <td>nonrobust</td>    <th>                     </th>     <td> </td>    \n",
       "</tr>\n",
       "</table>\n",
       "<table class=\"simpletable\">\n",
       "<tr>\n",
       "    <td></td>       <th>coef</th>     <th>std err</th>      <th>t</th>      <th>P>|t|</th>  <th>[0.025</th>    <th>0.975]</th>  \n",
       "</tr>\n",
       "<tr>\n",
       "  <th>const</th> <td>  151.2557</td> <td>   18.492</td> <td>    8.179</td> <td> 0.000</td> <td>  115.003</td> <td>  187.509</td>\n",
       "</tr>\n",
       "<tr>\n",
       "  <th>x1</th>    <td>    0.0675</td> <td>    0.020</td> <td>    3.303</td> <td> 0.001</td> <td>    0.027</td> <td>    0.108</td>\n",
       "</tr>\n",
       "<tr>\n",
       "  <th>x2</th>    <td>   -1.8717</td> <td>    0.112</td> <td>  -16.761</td> <td> 0.000</td> <td>   -2.091</td> <td>   -1.653</td>\n",
       "</tr>\n",
       "<tr>\n",
       "  <th>x3</th>    <td>    0.0821</td> <td>    0.007</td> <td>   11.148</td> <td> 0.000</td> <td>    0.068</td> <td>    0.096</td>\n",
       "</tr>\n",
       "<tr>\n",
       "  <th>x4</th>    <td>    0.0037</td> <td>    0.001</td> <td>    4.422</td> <td> 0.000</td> <td>    0.002</td> <td>    0.005</td>\n",
       "</tr>\n",
       "<tr>\n",
       "  <th>x5</th>    <td>   -0.0003</td> <td>    0.000</td> <td>   -0.753</td> <td> 0.451</td> <td>   -0.001</td> <td>    0.000</td>\n",
       "</tr>\n",
       "<tr>\n",
       "  <th>x6</th>    <td> -151.3981</td> <td>   18.743</td> <td>   -8.078</td> <td> 0.000</td> <td> -188.142</td> <td> -114.654</td>\n",
       "</tr>\n",
       "<tr>\n",
       "  <th>x7</th>    <td>    0.6922</td> <td>    0.103</td> <td>    6.695</td> <td> 0.000</td> <td>    0.490</td> <td>    0.895</td>\n",
       "</tr>\n",
       "<tr>\n",
       "  <th>x8</th>    <td>    0.6339</td> <td>    0.100</td> <td>    6.324</td> <td> 0.000</td> <td>    0.437</td> <td>    0.830</td>\n",
       "</tr>\n",
       "<tr>\n",
       "  <th>x9</th>    <td>    0.1940</td> <td>    0.024</td> <td>    8.046</td> <td> 0.000</td> <td>    0.147</td> <td>    0.241</td>\n",
       "</tr>\n",
       "</table>\n",
       "<table class=\"simpletable\">\n",
       "<tr>\n",
       "  <th>Omnibus:</th>       <td>114.166</td> <th>  Durbin-Watson:     </th> <td>   1.621</td>\n",
       "</tr>\n",
       "<tr>\n",
       "  <th>Prob(Omnibus):</th> <td> 0.000</td>  <th>  Jarque-Bera (JB):  </th> <td> 251.721</td>\n",
       "</tr>\n",
       "<tr>\n",
       "  <th>Skew:</th>          <td> 0.073</td>  <th>  Prob(JB):          </th> <td>2.19e-55</td>\n",
       "</tr>\n",
       "<tr>\n",
       "  <th>Kurtosis:</th>      <td> 4.101</td>  <th>  Cond. No.          </th> <td>3.68e+05</td>\n",
       "</tr>\n",
       "</table><br/><br/>Warnings:<br/>[1] Standard Errors assume that the covariance matrix of the errors is correctly specified.<br/>[2] The condition number is large, 3.68e+05. This might indicate that there are<br/>strong multicollinearity or other numerical problems."
      ],
      "text/plain": [
       "<class 'statsmodels.iolib.summary.Summary'>\n",
       "\"\"\"\n",
       "                            OLS Regression Results                            \n",
       "==============================================================================\n",
       "Dep. Variable:                quality   R-squared:                       0.282\n",
       "Model:                            OLS   Adj. R-squared:                  0.281\n",
       "Method:                 Least Squares   F-statistic:                     213.1\n",
       "Date:                Mon, 30 Sep 2019   Prob (F-statistic):               0.00\n",
       "Time:                        21:12:56   Log-Likelihood:                -5543.9\n",
       "No. Observations:                4898   AIC:                         1.111e+04\n",
       "Df Residuals:                    4888   BIC:                         1.117e+04\n",
       "Df Model:                           9                                         \n",
       "Covariance Type:            nonrobust                                         \n",
       "==============================================================================\n",
       "                 coef    std err          t      P>|t|      [0.025      0.975]\n",
       "------------------------------------------------------------------------------\n",
       "const        151.2557     18.492      8.179      0.000     115.003     187.509\n",
       "x1             0.0675      0.020      3.303      0.001       0.027       0.108\n",
       "x2            -1.8717      0.112    -16.761      0.000      -2.091      -1.653\n",
       "x3             0.0821      0.007     11.148      0.000       0.068       0.096\n",
       "x4             0.0037      0.001      4.422      0.000       0.002       0.005\n",
       "x5            -0.0003      0.000     -0.753      0.451      -0.001       0.000\n",
       "x6          -151.3981     18.743     -8.078      0.000    -188.142    -114.654\n",
       "x7             0.6922      0.103      6.695      0.000       0.490       0.895\n",
       "x8             0.6339      0.100      6.324      0.000       0.437       0.830\n",
       "x9             0.1940      0.024      8.046      0.000       0.147       0.241\n",
       "==============================================================================\n",
       "Omnibus:                      114.166   Durbin-Watson:                   1.621\n",
       "Prob(Omnibus):                  0.000   Jarque-Bera (JB):              251.721\n",
       "Skew:                           0.073   Prob(JB):                     2.19e-55\n",
       "Kurtosis:                       4.101   Cond. No.                     3.68e+05\n",
       "==============================================================================\n",
       "\n",
       "Warnings:\n",
       "[1] Standard Errors assume that the covariance matrix of the errors is correctly specified.\n",
       "[2] The condition number is large, 3.68e+05. This might indicate that there are\n",
       "strong multicollinearity or other numerical problems.\n",
       "\"\"\""
      ]
     },
     "execution_count": 14,
     "metadata": {},
     "output_type": "execute_result"
    }
   ],
   "source": [
    "# Refit model after removing 5 (chlorides) column\n",
    "X_opt = X[:, [0,1,2,4,6,7,8,9,10,11]]\n",
    "regressor_OLS = sm.OLS(endog= y, exog = X_opt).fit()\n",
    "regressor_OLS.summary()\n",
    "# Need to remove 7 (total.sulfur.dioxide)"
   ]
  },
  {
   "cell_type": "code",
   "execution_count": 15,
   "metadata": {
    "colab": {
     "base_uri": "https://localhost:8080/",
     "height": 625
    },
    "colab_type": "code",
    "executionInfo": {
     "elapsed": 2915,
     "status": "ok",
     "timestamp": 1569288867411,
     "user": {
      "displayName": "Michelle Williams",
      "photoUrl": "",
      "userId": "03015297040919770327"
     },
     "user_tz": 300
    },
    "id": "05uq7gF5t-uI",
    "outputId": "e4175b10-075d-478e-ea5a-dcd78d4c85ac"
   },
   "outputs": [
    {
     "data": {
      "text/html": [
       "<table class=\"simpletable\">\n",
       "<caption>OLS Regression Results</caption>\n",
       "<tr>\n",
       "  <th>Dep. Variable:</th>         <td>quality</td>     <th>  R-squared:         </th> <td>   0.282</td> \n",
       "</tr>\n",
       "<tr>\n",
       "  <th>Model:</th>                   <td>OLS</td>       <th>  Adj. R-squared:    </th> <td>   0.281</td> \n",
       "</tr>\n",
       "<tr>\n",
       "  <th>Method:</th>             <td>Least Squares</td>  <th>  F-statistic:       </th> <td>   239.7</td> \n",
       "</tr>\n",
       "<tr>\n",
       "  <th>Date:</th>             <td>Mon, 30 Sep 2019</td> <th>  Prob (F-statistic):</th>  <td>  0.00</td>  \n",
       "</tr>\n",
       "<tr>\n",
       "  <th>Time:</th>                 <td>21:12:57</td>     <th>  Log-Likelihood:    </th> <td> -5544.1</td> \n",
       "</tr>\n",
       "<tr>\n",
       "  <th>No. Observations:</th>      <td>  4898</td>      <th>  AIC:               </th> <td>1.111e+04</td>\n",
       "</tr>\n",
       "<tr>\n",
       "  <th>Df Residuals:</th>          <td>  4889</td>      <th>  BIC:               </th> <td>1.116e+04</td>\n",
       "</tr>\n",
       "<tr>\n",
       "  <th>Df Model:</th>              <td>     8</td>      <th>                     </th>     <td> </td>    \n",
       "</tr>\n",
       "<tr>\n",
       "  <th>Covariance Type:</th>      <td>nonrobust</td>    <th>                     </th>     <td> </td>    \n",
       "</tr>\n",
       "</table>\n",
       "<table class=\"simpletable\">\n",
       "<tr>\n",
       "    <td></td>       <th>coef</th>     <th>std err</th>      <th>t</th>      <th>P>|t|</th>  <th>[0.025</th>    <th>0.975]</th>  \n",
       "</tr>\n",
       "<tr>\n",
       "  <th>const</th> <td>  154.1062</td> <td>   18.100</td> <td>    8.514</td> <td> 0.000</td> <td>  118.622</td> <td>  189.591</td>\n",
       "</tr>\n",
       "<tr>\n",
       "  <th>x1</th>    <td>    0.0681</td> <td>    0.020</td> <td>    3.333</td> <td> 0.001</td> <td>    0.028</td> <td>    0.108</td>\n",
       "</tr>\n",
       "<tr>\n",
       "  <th>x2</th>    <td>   -1.8881</td> <td>    0.110</td> <td>  -17.242</td> <td> 0.000</td> <td>   -2.103</td> <td>   -1.673</td>\n",
       "</tr>\n",
       "<tr>\n",
       "  <th>x3</th>    <td>    0.0828</td> <td>    0.007</td> <td>   11.370</td> <td> 0.000</td> <td>    0.069</td> <td>    0.097</td>\n",
       "</tr>\n",
       "<tr>\n",
       "  <th>x4</th>    <td>    0.0033</td> <td>    0.001</td> <td>    4.950</td> <td> 0.000</td> <td>    0.002</td> <td>    0.005</td>\n",
       "</tr>\n",
       "<tr>\n",
       "  <th>x5</th>    <td> -154.2913</td> <td>   18.344</td> <td>   -8.411</td> <td> 0.000</td> <td> -190.254</td> <td> -118.329</td>\n",
       "</tr>\n",
       "<tr>\n",
       "  <th>x6</th>    <td>    0.6942</td> <td>    0.103</td> <td>    6.717</td> <td> 0.000</td> <td>    0.492</td> <td>    0.897</td>\n",
       "</tr>\n",
       "<tr>\n",
       "  <th>x7</th>    <td>    0.6285</td> <td>    0.100</td> <td>    6.287</td> <td> 0.000</td> <td>    0.433</td> <td>    0.824</td>\n",
       "</tr>\n",
       "<tr>\n",
       "  <th>x8</th>    <td>    0.1932</td> <td>    0.024</td> <td>    8.021</td> <td> 0.000</td> <td>    0.146</td> <td>    0.240</td>\n",
       "</tr>\n",
       "</table>\n",
       "<table class=\"simpletable\">\n",
       "<tr>\n",
       "  <th>Omnibus:</th>       <td>114.194</td> <th>  Durbin-Watson:     </th> <td>   1.621</td>\n",
       "</tr>\n",
       "<tr>\n",
       "  <th>Prob(Omnibus):</th> <td> 0.000</td>  <th>  Jarque-Bera (JB):  </th> <td> 251.255</td>\n",
       "</tr>\n",
       "<tr>\n",
       "  <th>Skew:</th>          <td> 0.075</td>  <th>  Prob(JB):          </th> <td>2.76e-55</td>\n",
       "</tr>\n",
       "<tr>\n",
       "  <th>Kurtosis:</th>      <td> 4.099</td>  <th>  Cond. No.          </th> <td>9.95e+04</td>\n",
       "</tr>\n",
       "</table><br/><br/>Warnings:<br/>[1] Standard Errors assume that the covariance matrix of the errors is correctly specified.<br/>[2] The condition number is large, 9.95e+04. This might indicate that there are<br/>strong multicollinearity or other numerical problems."
      ],
      "text/plain": [
       "<class 'statsmodels.iolib.summary.Summary'>\n",
       "\"\"\"\n",
       "                            OLS Regression Results                            \n",
       "==============================================================================\n",
       "Dep. Variable:                quality   R-squared:                       0.282\n",
       "Model:                            OLS   Adj. R-squared:                  0.281\n",
       "Method:                 Least Squares   F-statistic:                     239.7\n",
       "Date:                Mon, 30 Sep 2019   Prob (F-statistic):               0.00\n",
       "Time:                        21:12:57   Log-Likelihood:                -5544.1\n",
       "No. Observations:                4898   AIC:                         1.111e+04\n",
       "Df Residuals:                    4889   BIC:                         1.116e+04\n",
       "Df Model:                           8                                         \n",
       "Covariance Type:            nonrobust                                         \n",
       "==============================================================================\n",
       "                 coef    std err          t      P>|t|      [0.025      0.975]\n",
       "------------------------------------------------------------------------------\n",
       "const        154.1062     18.100      8.514      0.000     118.622     189.591\n",
       "x1             0.0681      0.020      3.333      0.001       0.028       0.108\n",
       "x2            -1.8881      0.110    -17.242      0.000      -2.103      -1.673\n",
       "x3             0.0828      0.007     11.370      0.000       0.069       0.097\n",
       "x4             0.0033      0.001      4.950      0.000       0.002       0.005\n",
       "x5          -154.2913     18.344     -8.411      0.000    -190.254    -118.329\n",
       "x6             0.6942      0.103      6.717      0.000       0.492       0.897\n",
       "x7             0.6285      0.100      6.287      0.000       0.433       0.824\n",
       "x8             0.1932      0.024      8.021      0.000       0.146       0.240\n",
       "==============================================================================\n",
       "Omnibus:                      114.194   Durbin-Watson:                   1.621\n",
       "Prob(Omnibus):                  0.000   Jarque-Bera (JB):              251.255\n",
       "Skew:                           0.075   Prob(JB):                     2.76e-55\n",
       "Kurtosis:                       4.099   Cond. No.                     9.95e+04\n",
       "==============================================================================\n",
       "\n",
       "Warnings:\n",
       "[1] Standard Errors assume that the covariance matrix of the errors is correctly specified.\n",
       "[2] The condition number is large, 9.95e+04. This might indicate that there are\n",
       "strong multicollinearity or other numerical problems.\n",
       "\"\"\""
      ]
     },
     "execution_count": 15,
     "metadata": {},
     "output_type": "execute_result"
    }
   ],
   "source": [
    "# Refit model after removing 7 (total.sulfur.dioxide) column\n",
    "X_opt = X[:, [0,1,2,4,6,8,9,10,11]]\n",
    "regressor_OLS = sm.OLS(endog= y, exog = X_opt).fit()\n",
    "regressor_OLS.summary()"
   ]
  },
  {
   "cell_type": "markdown",
   "metadata": {
    "colab_type": "text",
    "id": "pdGGoumuva-m"
   },
   "source": [
    "# Create New Model from only predictive columns"
   ]
  },
  {
   "cell_type": "code",
   "execution_count": 16,
   "metadata": {
    "colab": {
     "base_uri": "https://localhost:8080/",
     "height": 34
    },
    "colab_type": "code",
    "executionInfo": {
     "elapsed": 3086,
     "status": "ok",
     "timestamp": 1569288867595,
     "user": {
      "displayName": "Michelle Williams",
      "photoUrl": "",
      "userId": "03015297040919770327"
     },
     "user_tz": 300
    },
    "id": "5DkzRw5mvfUX",
    "outputId": "e5f5610f-2b86-458b-d228-a55987a2e6ec"
   },
   "outputs": [
    {
     "name": "stdout",
     "output_type": "stream",
     "text": [
      "(4898, 8) (4898,)\n"
     ]
    }
   ],
   "source": [
    "# Assign the data to X and y\n",
    "\n",
    "X = white_wine_data[['fixed.acidity', 'volatile.acidity',\n",
    "       'residual.sugar', 'free.sulfur.dioxide',\n",
    "       'density', 'pH', 'sulphates', 'alcohol']]\n",
    "y = white_wine_data[\"quality\"]\n",
    "print(X.shape, y.shape)"
   ]
  },
  {
   "cell_type": "code",
   "execution_count": 17,
   "metadata": {
    "colab": {},
    "colab_type": "code",
    "id": "O9g13pu7vuIk"
   },
   "outputs": [],
   "source": [
    "# Use train_test_split to create training and testing data\n",
    "\n",
    "X_train, X_test, y_train, y_test = train_test_split(X, y, random_state=42)"
   ]
  },
  {
   "cell_type": "code",
   "execution_count": 18,
   "metadata": {
    "colab": {},
    "colab_type": "code",
    "id": "GrWRe1ypvz4l"
   },
   "outputs": [],
   "source": [
    "# Create the model using LinearRegression\n",
    "model = LinearRegression()"
   ]
  },
  {
   "cell_type": "code",
   "execution_count": 19,
   "metadata": {
    "colab": {
     "base_uri": "https://localhost:8080/",
     "height": 51
    },
    "colab_type": "code",
    "executionInfo": {
     "elapsed": 3060,
     "status": "ok",
     "timestamp": 1569288867597,
     "user": {
      "displayName": "Michelle Williams",
      "photoUrl": "",
      "userId": "03015297040919770327"
     },
     "user_tz": 300
    },
    "id": "iVpaoeVjv7Id",
    "outputId": "b5be7335-5d0f-4a8d-f36f-c8be1dbba3a1"
   },
   "outputs": [
    {
     "name": "stdout",
     "output_type": "stream",
     "text": [
      "Training Score: 0.28266373294992864\n",
      "Testing Score: 0.2741089926312341\n"
     ]
    }
   ],
   "source": [
    "# Fit the model to the training data and calculate the scores for the training and testing data\n",
    "model.fit(X_train, y_train)\n",
    "\n",
    "training_score = model.score(X_train, y_train)\n",
    "testing_score = model.score(X_test, y_test)\n",
    "\n",
    "print(f\"Training Score: {training_score}\")\n",
    "print(f\"Testing Score: {testing_score}\")"
   ]
  },
  {
   "cell_type": "markdown",
   "metadata": {
    "colab_type": "text",
    "id": "QCI69JmG1N1k"
   },
   "source": [
    "# Check strength of model based on density and alcohol"
   ]
  },
  {
   "cell_type": "code",
   "execution_count": 20,
   "metadata": {
    "colab": {
     "base_uri": "https://localhost:8080/",
     "height": 34
    },
    "colab_type": "code",
    "executionInfo": {
     "elapsed": 386,
     "status": "ok",
     "timestamp": 1569289314575,
     "user": {
      "displayName": "Michelle Williams",
      "photoUrl": "",
      "userId": "03015297040919770327"
     },
     "user_tz": 300
    },
    "id": "zJNjPoLV5Qz3",
    "outputId": "d5a93b5e-b7b6-4f64-aa88-825dc553f9e9"
   },
   "outputs": [
    {
     "name": "stdout",
     "output_type": "stream",
     "text": [
      "(4898, 2) (4898,)\n"
     ]
    }
   ],
   "source": [
    "# Assign the data to X and y\n",
    "\n",
    "X = white_wine_data[['density', 'alcohol']]\n",
    "y = white_wine_data[\"quality\"]\n",
    "print(X.shape, y.shape)"
   ]
  },
  {
   "cell_type": "code",
   "execution_count": 21,
   "metadata": {
    "colab": {},
    "colab_type": "code",
    "id": "7jXZkFUx5fwn"
   },
   "outputs": [],
   "source": [
    "# Use train_test_split to create training and testing data\n",
    "\n",
    "X_train, X_test, y_train, y_test = train_test_split(X, y, random_state=42)"
   ]
  },
  {
   "cell_type": "code",
   "execution_count": 22,
   "metadata": {
    "colab": {},
    "colab_type": "code",
    "id": "uEpKn9FH5ibc"
   },
   "outputs": [],
   "source": [
    "# Create the model using LinearRegression\n",
    "model = LinearRegression()"
   ]
  },
  {
   "cell_type": "code",
   "execution_count": 23,
   "metadata": {
    "colab": {
     "base_uri": "https://localhost:8080/",
     "height": 51
    },
    "colab_type": "code",
    "executionInfo": {
     "elapsed": 388,
     "status": "ok",
     "timestamp": 1569289318115,
     "user": {
      "displayName": "Michelle Williams",
      "photoUrl": "",
      "userId": "03015297040919770327"
     },
     "user_tz": 300
    },
    "id": "5qoyiYHX5kGE",
    "outputId": "629161bb-203a-46d7-85a3-26e134d7be63"
   },
   "outputs": [
    {
     "name": "stdout",
     "output_type": "stream",
     "text": [
      "Training Score: 0.1885391656456661\n",
      "Testing Score: 0.20285576685485185\n"
     ]
    }
   ],
   "source": [
    "# Fit the model to the training data and calculate the scores for the training and testing data\n",
    "model.fit(X_train, y_train)\n",
    "\n",
    "training_score = model.score(X_train, y_train)\n",
    "testing_score = model.score(X_test, y_test)\n",
    "\n",
    "print(f\"Training Score: {training_score}\")\n",
    "print(f\"Testing Score: {testing_score}\")"
   ]
  },
  {
   "cell_type": "markdown",
   "metadata": {
    "colab_type": "text",
    "id": "xJMdcOxc7tv3"
   },
   "source": [
    "# Check model relating residual.sugar and density"
   ]
  },
  {
   "cell_type": "code",
   "execution_count": 24,
   "metadata": {
    "colab": {
     "base_uri": "https://localhost:8080/",
     "height": 34
    },
    "colab_type": "code",
    "executionInfo": {
     "elapsed": 403,
     "status": "ok",
     "timestamp": 1569290239756,
     "user": {
      "displayName": "Michelle Williams",
      "photoUrl": "",
      "userId": "03015297040919770327"
     },
     "user_tz": 300
    },
    "id": "KYjM5nPC5m_s",
    "outputId": "19fdddb9-57c8-48a7-99bb-ccbfdb44b184"
   },
   "outputs": [
    {
     "name": "stdout",
     "output_type": "stream",
     "text": [
      "(4898, 1) (4898,)\n"
     ]
    }
   ],
   "source": [
    "# Assign the data to X and y\n",
    "\n",
    "X = white_wine_data[['residual.sugar']]\n",
    "y = white_wine_data[\"density\"]\n",
    "print(X.shape, y.shape)"
   ]
  },
  {
   "cell_type": "code",
   "execution_count": 25,
   "metadata": {
    "colab": {},
    "colab_type": "code",
    "id": "Gc5D3ar47zdD"
   },
   "outputs": [],
   "source": [
    "# Use train_test_split to create training and testing data\n",
    "\n",
    "X_train, X_test, y_train, y_test = train_test_split(X, y, random_state=42)"
   ]
  },
  {
   "cell_type": "code",
   "execution_count": 26,
   "metadata": {
    "colab": {},
    "colab_type": "code",
    "id": "e3Eihf0m7z_X"
   },
   "outputs": [],
   "source": [
    "# Create the model using LinearRegression\n",
    "model = LinearRegression()"
   ]
  },
  {
   "cell_type": "code",
   "execution_count": 27,
   "metadata": {
    "colab": {
     "base_uri": "https://localhost:8080/",
     "height": 51
    },
    "colab_type": "code",
    "executionInfo": {
     "elapsed": 214,
     "status": "ok",
     "timestamp": 1569290241571,
     "user": {
      "displayName": "Michelle Williams",
      "photoUrl": "",
      "userId": "03015297040919770327"
     },
     "user_tz": 300
    },
    "id": "DX492rEt74Q1",
    "outputId": "dde48712-06d1-4618-943a-9cb340f929e3"
   },
   "outputs": [
    {
     "name": "stdout",
     "output_type": "stream",
     "text": [
      "Training Score: 0.7104476424322768\n",
      "Testing Score: 0.6812611044515996\n"
     ]
    }
   ],
   "source": [
    "# Fit the model to the training data and calculate the scores for the training and testing data\n",
    "model.fit(X_train, y_train)\n",
    "\n",
    "training_score = model.score(X_train, y_train)\n",
    "testing_score = model.score(X_test, y_test)\n",
    "\n",
    "print(f\"Training Score: {training_score}\")\n",
    "print(f\"Testing Score: {testing_score}\")"
   ]
  },
  {
   "cell_type": "code",
   "execution_count": null,
   "metadata": {},
   "outputs": [],
   "source": []
  }
 ],
 "metadata": {
  "colab": {
   "collapsed_sections": [],
   "name": "white wine.ipynb",
   "provenance": []
  },
  "kernelspec": {
   "display_name": "Python 3",
   "language": "python",
   "name": "python3"
  },
  "language_info": {
   "codemirror_mode": {
    "name": "ipython",
    "version": 3
   },
   "file_extension": ".py",
   "mimetype": "text/x-python",
   "name": "python",
   "nbconvert_exporter": "python",
   "pygments_lexer": "ipython3",
   "version": "3.7.3"
  }
 },
 "nbformat": 4,
 "nbformat_minor": 1
}
